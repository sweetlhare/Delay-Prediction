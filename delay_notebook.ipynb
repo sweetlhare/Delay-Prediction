{
 "cells": [
  {
   "cell_type": "markdown",
   "metadata": {
    "_cell_guid": "df060fcf-2357-4479-b0c7-19ace00aba0e",
    "_uuid": "47c094564b4c9f2536767d19c99a49f482a0161f"
   },
   "source": [
    "# **Предсказание задержки рейса**"
   ]
  },
  {
   "cell_type": "markdown",
   "metadata": {
    "_cell_guid": "ddb273b8-9028-4fee-9ec4-384da1c417d7",
    "_uuid": "eb9768b31c8998ad37fb0e9b6a95e1eaa8ea0514"
   },
   "source": [
    "## Импорт зависимостей"
   ]
  },
  {
   "cell_type": "code",
   "execution_count": 10,
   "metadata": {},
   "outputs": [],
   "source": [
    "import datetime\n",
    "import pandas as pd\n",
    "import numpy as np\n",
    "\n",
    "import matplotlib.pyplot as plt\n",
    "import seaborn as sns\n",
    "import plotly.express as px\n",
    "\n",
    "from catboost import CatBoostRegressor, CatBoostClassifier\n",
    "\n",
    "from sklearn.model_selection import *\n",
    "from sklearn.metrics import *\n",
    "\n",
    "pd.options.display.float_format = \"{:.1f}\".format\n",
    "sns.set_style(\"whitegrid\")\n",
    "plt.style.use(\"fivethirtyeight\") \n",
    "\n",
    "import warnings\n",
    "warnings.filterwarnings(\"ignore\")"
   ]
  },
  {
   "cell_type": "markdown",
   "metadata": {
    "_cell_guid": "42362727-651e-496e-b156-6091f8ff535c",
    "_uuid": "a45c0b019206005444ec3138e522d008a2f93c15"
   },
   "source": [
    "## Загрузка данных"
   ]
  },
  {
   "cell_type": "code",
   "execution_count": 11,
   "metadata": {
    "_cell_guid": "f1181648-1d4e-434c-b9b6-58240e4f0787",
    "_kg_hide-input": true,
    "_uuid": "0e16a4dda060923da07c99eca1d0fc941c3ddd46",
    "scrolled": true,
    "tags": []
   },
   "outputs": [
    {
     "name": "stdout",
     "output_type": "stream",
     "text": [
      "Dataframe dimensions: (5819079, 31) \n",
      "\n"
     ]
    },
    {
     "data": {
      "text/html": [
       "<div>\n",
       "<style scoped>\n",
       "    .dataframe tbody tr th:only-of-type {\n",
       "        vertical-align: middle;\n",
       "    }\n",
       "\n",
       "    .dataframe tbody tr th {\n",
       "        vertical-align: top;\n",
       "    }\n",
       "\n",
       "    .dataframe thead th {\n",
       "        text-align: right;\n",
       "    }\n",
       "</style>\n",
       "<table border=\"1\" class=\"dataframe\">\n",
       "  <thead>\n",
       "    <tr style=\"text-align: right;\">\n",
       "      <th></th>\n",
       "      <th>YEAR</th>\n",
       "      <th>MONTH</th>\n",
       "      <th>DAY</th>\n",
       "      <th>DAY_OF_WEEK</th>\n",
       "      <th>AIRLINE</th>\n",
       "      <th>FLIGHT_NUMBER</th>\n",
       "      <th>TAIL_NUMBER</th>\n",
       "      <th>ORIGIN_AIRPORT</th>\n",
       "      <th>DESTINATION_AIRPORT</th>\n",
       "      <th>SCHEDULED_DEPARTURE</th>\n",
       "      <th>...</th>\n",
       "      <th>ARRIVAL_TIME</th>\n",
       "      <th>ARRIVAL_DELAY</th>\n",
       "      <th>DIVERTED</th>\n",
       "      <th>CANCELLED</th>\n",
       "      <th>CANCELLATION_REASON</th>\n",
       "      <th>AIR_SYSTEM_DELAY</th>\n",
       "      <th>SECURITY_DELAY</th>\n",
       "      <th>AIRLINE_DELAY</th>\n",
       "      <th>LATE_AIRCRAFT_DELAY</th>\n",
       "      <th>WEATHER_DELAY</th>\n",
       "    </tr>\n",
       "  </thead>\n",
       "  <tbody>\n",
       "    <tr>\n",
       "      <th>0</th>\n",
       "      <td>2015</td>\n",
       "      <td>1</td>\n",
       "      <td>1</td>\n",
       "      <td>4</td>\n",
       "      <td>AS</td>\n",
       "      <td>98</td>\n",
       "      <td>N407AS</td>\n",
       "      <td>ANC</td>\n",
       "      <td>SEA</td>\n",
       "      <td>5</td>\n",
       "      <td>...</td>\n",
       "      <td>408.0</td>\n",
       "      <td>-22.0</td>\n",
       "      <td>0</td>\n",
       "      <td>0</td>\n",
       "      <td>NaN</td>\n",
       "      <td>NaN</td>\n",
       "      <td>NaN</td>\n",
       "      <td>NaN</td>\n",
       "      <td>NaN</td>\n",
       "      <td>NaN</td>\n",
       "    </tr>\n",
       "    <tr>\n",
       "      <th>1</th>\n",
       "      <td>2015</td>\n",
       "      <td>1</td>\n",
       "      <td>1</td>\n",
       "      <td>4</td>\n",
       "      <td>AA</td>\n",
       "      <td>2336</td>\n",
       "      <td>N3KUAA</td>\n",
       "      <td>LAX</td>\n",
       "      <td>PBI</td>\n",
       "      <td>10</td>\n",
       "      <td>...</td>\n",
       "      <td>741.0</td>\n",
       "      <td>-9.0</td>\n",
       "      <td>0</td>\n",
       "      <td>0</td>\n",
       "      <td>NaN</td>\n",
       "      <td>NaN</td>\n",
       "      <td>NaN</td>\n",
       "      <td>NaN</td>\n",
       "      <td>NaN</td>\n",
       "      <td>NaN</td>\n",
       "    </tr>\n",
       "    <tr>\n",
       "      <th>2</th>\n",
       "      <td>2015</td>\n",
       "      <td>1</td>\n",
       "      <td>1</td>\n",
       "      <td>4</td>\n",
       "      <td>US</td>\n",
       "      <td>840</td>\n",
       "      <td>N171US</td>\n",
       "      <td>SFO</td>\n",
       "      <td>CLT</td>\n",
       "      <td>20</td>\n",
       "      <td>...</td>\n",
       "      <td>811.0</td>\n",
       "      <td>5.0</td>\n",
       "      <td>0</td>\n",
       "      <td>0</td>\n",
       "      <td>NaN</td>\n",
       "      <td>NaN</td>\n",
       "      <td>NaN</td>\n",
       "      <td>NaN</td>\n",
       "      <td>NaN</td>\n",
       "      <td>NaN</td>\n",
       "    </tr>\n",
       "    <tr>\n",
       "      <th>3</th>\n",
       "      <td>2015</td>\n",
       "      <td>1</td>\n",
       "      <td>1</td>\n",
       "      <td>4</td>\n",
       "      <td>AA</td>\n",
       "      <td>258</td>\n",
       "      <td>N3HYAA</td>\n",
       "      <td>LAX</td>\n",
       "      <td>MIA</td>\n",
       "      <td>20</td>\n",
       "      <td>...</td>\n",
       "      <td>756.0</td>\n",
       "      <td>-9.0</td>\n",
       "      <td>0</td>\n",
       "      <td>0</td>\n",
       "      <td>NaN</td>\n",
       "      <td>NaN</td>\n",
       "      <td>NaN</td>\n",
       "      <td>NaN</td>\n",
       "      <td>NaN</td>\n",
       "      <td>NaN</td>\n",
       "    </tr>\n",
       "    <tr>\n",
       "      <th>4</th>\n",
       "      <td>2015</td>\n",
       "      <td>1</td>\n",
       "      <td>1</td>\n",
       "      <td>4</td>\n",
       "      <td>AS</td>\n",
       "      <td>135</td>\n",
       "      <td>N527AS</td>\n",
       "      <td>SEA</td>\n",
       "      <td>ANC</td>\n",
       "      <td>25</td>\n",
       "      <td>...</td>\n",
       "      <td>259.0</td>\n",
       "      <td>-21.0</td>\n",
       "      <td>0</td>\n",
       "      <td>0</td>\n",
       "      <td>NaN</td>\n",
       "      <td>NaN</td>\n",
       "      <td>NaN</td>\n",
       "      <td>NaN</td>\n",
       "      <td>NaN</td>\n",
       "      <td>NaN</td>\n",
       "    </tr>\n",
       "  </tbody>\n",
       "</table>\n",
       "<p>5 rows × 31 columns</p>\n",
       "</div>"
      ],
      "text/plain": [
       "   YEAR  MONTH  DAY  DAY_OF_WEEK AIRLINE  FLIGHT_NUMBER TAIL_NUMBER  \\\n",
       "0  2015      1    1            4      AS             98      N407AS   \n",
       "1  2015      1    1            4      AA           2336      N3KUAA   \n",
       "2  2015      1    1            4      US            840      N171US   \n",
       "3  2015      1    1            4      AA            258      N3HYAA   \n",
       "4  2015      1    1            4      AS            135      N527AS   \n",
       "\n",
       "  ORIGIN_AIRPORT DESTINATION_AIRPORT  SCHEDULED_DEPARTURE  ...  ARRIVAL_TIME  \\\n",
       "0            ANC                 SEA                    5  ...         408.0   \n",
       "1            LAX                 PBI                   10  ...         741.0   \n",
       "2            SFO                 CLT                   20  ...         811.0   \n",
       "3            LAX                 MIA                   20  ...         756.0   \n",
       "4            SEA                 ANC                   25  ...         259.0   \n",
       "\n",
       "   ARRIVAL_DELAY  DIVERTED  CANCELLED  CANCELLATION_REASON  AIR_SYSTEM_DELAY  \\\n",
       "0          -22.0         0          0                  NaN               NaN   \n",
       "1           -9.0         0          0                  NaN               NaN   \n",
       "2            5.0         0          0                  NaN               NaN   \n",
       "3           -9.0         0          0                  NaN               NaN   \n",
       "4          -21.0         0          0                  NaN               NaN   \n",
       "\n",
       "   SECURITY_DELAY  AIRLINE_DELAY  LATE_AIRCRAFT_DELAY  WEATHER_DELAY  \n",
       "0             NaN            NaN                  NaN            NaN  \n",
       "1             NaN            NaN                  NaN            NaN  \n",
       "2             NaN            NaN                  NaN            NaN  \n",
       "3             NaN            NaN                  NaN            NaN  \n",
       "4             NaN            NaN                  NaN            NaN  \n",
       "\n",
       "[5 rows x 31 columns]"
      ]
     },
     "execution_count": 11,
     "metadata": {},
     "output_type": "execute_result"
    }
   ],
   "source": [
    "df = pd.read_csv('data/flights.csv')\n",
    "print('Dataframe dimensions:', df.shape, '\\n')\n",
    "df.head()"
   ]
  },
  {
   "cell_type": "code",
   "execution_count": 12,
   "metadata": {},
   "outputs": [
    {
     "data": {
      "text/plain": [
       "Index(['YEAR', 'MONTH', 'DAY', 'DAY_OF_WEEK', 'AIRLINE', 'FLIGHT_NUMBER',\n",
       "       'TAIL_NUMBER', 'ORIGIN_AIRPORT', 'DESTINATION_AIRPORT',\n",
       "       'SCHEDULED_DEPARTURE', 'DEPARTURE_TIME', 'DEPARTURE_DELAY', 'TAXI_OUT',\n",
       "       'WHEELS_OFF', 'SCHEDULED_TIME', 'ELAPSED_TIME', 'AIR_TIME', 'DISTANCE',\n",
       "       'WHEELS_ON', 'TAXI_IN', 'SCHEDULED_ARRIVAL', 'ARRIVAL_TIME',\n",
       "       'ARRIVAL_DELAY', 'DIVERTED', 'CANCELLED', 'CANCELLATION_REASON',\n",
       "       'AIR_SYSTEM_DELAY', 'SECURITY_DELAY', 'AIRLINE_DELAY',\n",
       "       'LATE_AIRCRAFT_DELAY', 'WEATHER_DELAY'],\n",
       "      dtype='object')"
      ]
     },
     "execution_count": 12,
     "metadata": {},
     "output_type": "execute_result"
    }
   ],
   "source": [
    "df.columns"
   ]
  },
  {
   "cell_type": "markdown",
   "metadata": {},
   "source": [
    "Так как данные весьма объемные, рассмотрим только 1 месяц - Январь."
   ]
  },
  {
   "cell_type": "code",
   "execution_count": 13,
   "metadata": {},
   "outputs": [],
   "source": [
    "df = df[df.MONTH == 1].reset_index(drop=True)"
   ]
  },
  {
   "cell_type": "markdown",
   "metadata": {
    "_cell_guid": "74c541db-d87b-4eab-b206-4b02f35fa56f",
    "_uuid": "45f801f58539d091bdcf564898434805bbfc6b91"
   },
   "source": [
    "Каждая строка `flights.csv` содержит информацию об одном перелете. Всего 5'800'000 полетов за 2015 год. Датасет состоит из 31 признака.\n",
    "\n",
    "- **YEAR, MONTH, DAY, DAY_OF_WEEK**: даты перелета <br/>\n",
    "- **AIRLINE**: идентификационный номер авиакомпании<br/>\n",
    "- **ORIGIN_AIRPORT** и **DESTINATION_AIRPORT**: код аэропортов отбытия и прибытия <br/>\n",
    "- **SCHEDULED_DEPARTURE** и **SCHEDULED_ARRIVAL** : время вылета и прилета по расписанию <br/> \n",
    "- **DEPARTURE_TIME** и **ARRIVAL_TIME**: реальное время взлета и посадки <br/> \n",
    "- **DEPARTURE_DELAY** и **ARRIVAL_DELAY**: разница между реальным и запланированным временем (задержка) <br/> \n",
    "- **DISTANCE**: расстояние перелета (в милях)  <br/>\n",
    "\n",
    "Дополнительный файл `airports.csv` содержит информацию об аэропортах."
   ]
  },
  {
   "cell_type": "code",
   "execution_count": 14,
   "metadata": {
    "_cell_guid": "6f858b64-000b-4b5e-a2a0-c827afb59bd3",
    "_kg_hide-input": true,
    "_uuid": "43d6714ff1fdfe7465f9ad69f5fdc8754cc88f82",
    "tags": []
   },
   "outputs": [
    {
     "data": {
      "text/html": [
       "<div>\n",
       "<style scoped>\n",
       "    .dataframe tbody tr th:only-of-type {\n",
       "        vertical-align: middle;\n",
       "    }\n",
       "\n",
       "    .dataframe tbody tr th {\n",
       "        vertical-align: top;\n",
       "    }\n",
       "\n",
       "    .dataframe thead th {\n",
       "        text-align: right;\n",
       "    }\n",
       "</style>\n",
       "<table border=\"1\" class=\"dataframe\">\n",
       "  <thead>\n",
       "    <tr style=\"text-align: right;\">\n",
       "      <th></th>\n",
       "      <th>IATA_CODE</th>\n",
       "      <th>AIRPORT</th>\n",
       "      <th>CITY</th>\n",
       "      <th>STATE</th>\n",
       "      <th>COUNTRY</th>\n",
       "      <th>LATITUDE</th>\n",
       "      <th>LONGITUDE</th>\n",
       "    </tr>\n",
       "  </thead>\n",
       "  <tbody>\n",
       "    <tr>\n",
       "      <th>0</th>\n",
       "      <td>ABE</td>\n",
       "      <td>Lehigh Valley International Airport</td>\n",
       "      <td>Allentown</td>\n",
       "      <td>PA</td>\n",
       "      <td>USA</td>\n",
       "      <td>40.7</td>\n",
       "      <td>-75.4</td>\n",
       "    </tr>\n",
       "    <tr>\n",
       "      <th>1</th>\n",
       "      <td>ABI</td>\n",
       "      <td>Abilene Regional Airport</td>\n",
       "      <td>Abilene</td>\n",
       "      <td>TX</td>\n",
       "      <td>USA</td>\n",
       "      <td>32.4</td>\n",
       "      <td>-99.7</td>\n",
       "    </tr>\n",
       "    <tr>\n",
       "      <th>2</th>\n",
       "      <td>ABQ</td>\n",
       "      <td>Albuquerque International Sunport</td>\n",
       "      <td>Albuquerque</td>\n",
       "      <td>NM</td>\n",
       "      <td>USA</td>\n",
       "      <td>35.0</td>\n",
       "      <td>-106.6</td>\n",
       "    </tr>\n",
       "    <tr>\n",
       "      <th>3</th>\n",
       "      <td>ABR</td>\n",
       "      <td>Aberdeen Regional Airport</td>\n",
       "      <td>Aberdeen</td>\n",
       "      <td>SD</td>\n",
       "      <td>USA</td>\n",
       "      <td>45.4</td>\n",
       "      <td>-98.4</td>\n",
       "    </tr>\n",
       "    <tr>\n",
       "      <th>4</th>\n",
       "      <td>ABY</td>\n",
       "      <td>Southwest Georgia Regional Airport</td>\n",
       "      <td>Albany</td>\n",
       "      <td>GA</td>\n",
       "      <td>USA</td>\n",
       "      <td>31.5</td>\n",
       "      <td>-84.2</td>\n",
       "    </tr>\n",
       "  </tbody>\n",
       "</table>\n",
       "</div>"
      ],
      "text/plain": [
       "  IATA_CODE                              AIRPORT         CITY STATE COUNTRY  \\\n",
       "0       ABE  Lehigh Valley International Airport    Allentown    PA     USA   \n",
       "1       ABI             Abilene Regional Airport      Abilene    TX     USA   \n",
       "2       ABQ    Albuquerque International Sunport  Albuquerque    NM     USA   \n",
       "3       ABR            Aberdeen Regional Airport     Aberdeen    SD     USA   \n",
       "4       ABY   Southwest Georgia Regional Airport       Albany    GA     USA   \n",
       "\n",
       "   LATITUDE  LONGITUDE  \n",
       "0      40.7      -75.4  \n",
       "1      32.4      -99.7  \n",
       "2      35.0     -106.6  \n",
       "3      45.4      -98.4  \n",
       "4      31.5      -84.2  "
      ]
     },
     "execution_count": 14,
     "metadata": {},
     "output_type": "execute_result"
    }
   ],
   "source": [
    "airports = pd.read_csv('data/airports.csv')\n",
    "airports.head()"
   ]
  },
  {
   "cell_type": "markdown",
   "metadata": {},
   "source": [
    "Дополнительный файл `airlines.csv` содержит информацию об авиакомпаниях."
   ]
  },
  {
   "cell_type": "code",
   "execution_count": 15,
   "metadata": {
    "_cell_guid": "cfff7486-c495-4d6b-ba81-429508942f56",
    "_kg_hide-input": true,
    "_uuid": "8608cd6e56aa3663cdc23ea325a9f3760e53eddf",
    "tags": []
   },
   "outputs": [
    {
     "data": {
      "text/html": [
       "<div>\n",
       "<style scoped>\n",
       "    .dataframe tbody tr th:only-of-type {\n",
       "        vertical-align: middle;\n",
       "    }\n",
       "\n",
       "    .dataframe tbody tr th {\n",
       "        vertical-align: top;\n",
       "    }\n",
       "\n",
       "    .dataframe thead th {\n",
       "        text-align: right;\n",
       "    }\n",
       "</style>\n",
       "<table border=\"1\" class=\"dataframe\">\n",
       "  <thead>\n",
       "    <tr style=\"text-align: right;\">\n",
       "      <th></th>\n",
       "      <th>IATA_CODE</th>\n",
       "      <th>AIRLINE</th>\n",
       "    </tr>\n",
       "  </thead>\n",
       "  <tbody>\n",
       "    <tr>\n",
       "      <th>0</th>\n",
       "      <td>UA</td>\n",
       "      <td>United Air Lines Inc.</td>\n",
       "    </tr>\n",
       "    <tr>\n",
       "      <th>1</th>\n",
       "      <td>AA</td>\n",
       "      <td>American Airlines Inc.</td>\n",
       "    </tr>\n",
       "    <tr>\n",
       "      <th>2</th>\n",
       "      <td>US</td>\n",
       "      <td>US Airways Inc.</td>\n",
       "    </tr>\n",
       "    <tr>\n",
       "      <th>3</th>\n",
       "      <td>F9</td>\n",
       "      <td>Frontier Airlines Inc.</td>\n",
       "    </tr>\n",
       "    <tr>\n",
       "      <th>4</th>\n",
       "      <td>B6</td>\n",
       "      <td>JetBlue Airways</td>\n",
       "    </tr>\n",
       "    <tr>\n",
       "      <th>5</th>\n",
       "      <td>OO</td>\n",
       "      <td>Skywest Airlines Inc.</td>\n",
       "    </tr>\n",
       "    <tr>\n",
       "      <th>6</th>\n",
       "      <td>AS</td>\n",
       "      <td>Alaska Airlines Inc.</td>\n",
       "    </tr>\n",
       "    <tr>\n",
       "      <th>7</th>\n",
       "      <td>NK</td>\n",
       "      <td>Spirit Air Lines</td>\n",
       "    </tr>\n",
       "    <tr>\n",
       "      <th>8</th>\n",
       "      <td>WN</td>\n",
       "      <td>Southwest Airlines Co.</td>\n",
       "    </tr>\n",
       "    <tr>\n",
       "      <th>9</th>\n",
       "      <td>DL</td>\n",
       "      <td>Delta Air Lines Inc.</td>\n",
       "    </tr>\n",
       "    <tr>\n",
       "      <th>10</th>\n",
       "      <td>EV</td>\n",
       "      <td>Atlantic Southeast Airlines</td>\n",
       "    </tr>\n",
       "    <tr>\n",
       "      <th>11</th>\n",
       "      <td>HA</td>\n",
       "      <td>Hawaiian Airlines Inc.</td>\n",
       "    </tr>\n",
       "    <tr>\n",
       "      <th>12</th>\n",
       "      <td>MQ</td>\n",
       "      <td>American Eagle Airlines Inc.</td>\n",
       "    </tr>\n",
       "    <tr>\n",
       "      <th>13</th>\n",
       "      <td>VX</td>\n",
       "      <td>Virgin America</td>\n",
       "    </tr>\n",
       "  </tbody>\n",
       "</table>\n",
       "</div>"
      ],
      "text/plain": [
       "   IATA_CODE                       AIRLINE\n",
       "0         UA         United Air Lines Inc.\n",
       "1         AA        American Airlines Inc.\n",
       "2         US               US Airways Inc.\n",
       "3         F9        Frontier Airlines Inc.\n",
       "4         B6               JetBlue Airways\n",
       "5         OO         Skywest Airlines Inc.\n",
       "6         AS          Alaska Airlines Inc.\n",
       "7         NK              Spirit Air Lines\n",
       "8         WN        Southwest Airlines Co.\n",
       "9         DL          Delta Air Lines Inc.\n",
       "10        EV   Atlantic Southeast Airlines\n",
       "11        HA        Hawaiian Airlines Inc.\n",
       "12        MQ  American Eagle Airlines Inc.\n",
       "13        VX                Virgin America"
      ]
     },
     "execution_count": 15,
     "metadata": {},
     "output_type": "execute_result"
    }
   ],
   "source": [
    "airlines_names = pd.read_csv('data/airlines.csv')\n",
    "airlines_names"
   ]
  },
  {
   "cell_type": "markdown",
   "metadata": {
    "_cell_guid": "df1d2a0c-ff18-4a01-a25d-e8430831900b",
    "_uuid": "93223fb59244741a45e672ca8f054ea5316028ef"
   },
   "source": [
    "Для дальнейшего использования понадобится словарик перевода кода компании в название."
   ]
  },
  {
   "cell_type": "code",
   "execution_count": 16,
   "metadata": {
    "_cell_guid": "3bae09a6-4d88-4457-8758-2b7b4836083d",
    "_uuid": "d0cf6529149105eac1ba48b0ba3e1d246f51b2a0",
    "tags": []
   },
   "outputs": [],
   "source": [
    "abbr_companies = airlines_names.set_index('IATA_CODE')['AIRLINE'].to_dict()"
   ]
  },
  {
   "cell_type": "markdown",
   "metadata": {
    "_cell_guid": "d7ee2a3f-f4c5-4dff-bfc0-46c9a7d1e9d3",
    "_uuid": "2226b359e705a8396004cd4d5fe0b0a6dc062189"
   },
   "source": [
    "## Первичные преобразования\n",
    "\n",
    "Переведем формат **YEAR, MONTH, DAY**, **DAY_OF_WEEK** в единый **_datetime_**.\n"
   ]
  },
  {
   "cell_type": "code",
   "execution_count": 17,
   "metadata": {
    "_cell_guid": "d6861e13-aa9a-4790-b768-40c54717c62f",
    "_kg_hide-input": true,
    "_uuid": "8652a730699b241163bdbe13396004e442f92baf",
    "tags": []
   },
   "outputs": [],
   "source": [
    "df['DATE'] = pd.to_datetime(df[['YEAR','MONTH', 'DAY']])"
   ]
  },
  {
   "cell_type": "markdown",
   "metadata": {
    "_cell_guid": "9cccabe5-ae57-4814-b11a-6437b521e516",
    "_uuid": "2497f787a027f453cae5b6434542fc3ad2a9ff0d"
   },
   "source": [
    "Также нам нужно преобразовать переменные реального и планируемого времени вылета и прилета."
   ]
  },
  {
   "cell_type": "code",
   "execution_count": 18,
   "metadata": {
    "_cell_guid": "fe712458-abe5-4f40-a100-80dcddd69ad6",
    "_kg_hide-input": true,
    "_uuid": "d84175d06e4bd797bd125ce71f4629573d1d8092",
    "tags": []
   },
   "outputs": [],
   "source": [
    "#_________________________________________________________\n",
    "# Function that convert the 'HHMM' string to datetime.time\n",
    "def format_heure(chaine):\n",
    "    if pd.isnull(chaine):\n",
    "        return np.nan\n",
    "    else:\n",
    "        if chaine == 2400: chaine = 0\n",
    "        chaine = \"{0:04d}\".format(int(chaine))\n",
    "        heure = datetime.time(int(chaine[0:2]), int(chaine[2:4]))\n",
    "        return heure\n",
    "#_____________________________________________________________________\n",
    "# Function that combines a date and time to produce a datetime.datetime\n",
    "def combine_date_heure(x):\n",
    "    if pd.isnull(x[0]) or pd.isnull(x[1]):\n",
    "        return np.nan\n",
    "    else:\n",
    "        return datetime.datetime.combine(x[0],x[1])\n",
    "#_______________________________________________________________________________\n",
    "# Function that combine two columns of the dataframe to create a datetime format\n",
    "def create_flight_time(df, col):    \n",
    "    liste = []\n",
    "    for index, cols in df[['DATE', col]].iterrows():    \n",
    "        if pd.isnull(cols[1]):\n",
    "            liste.append(np.nan)\n",
    "        elif float(cols[1]) == 2400:\n",
    "            cols[0] += datetime.timedelta(days=1)\n",
    "            cols[1] = datetime.time(0,0)\n",
    "            liste.append(combine_date_heure(cols))\n",
    "        else:\n",
    "            cols[1] = format_heure(cols[1])\n",
    "            liste.append(combine_date_heure(cols))\n",
    "    return pd.Series(liste)"
   ]
  },
  {
   "cell_type": "code",
   "execution_count": 19,
   "metadata": {
    "_cell_guid": "356ec2ff-3fe5-4ab9-8f4d-235fec6ffb63",
    "_kg_hide-input": true,
    "_uuid": "b7ecec66f3d495e2e50b82e61d5dc550b8179b6a",
    "tags": []
   },
   "outputs": [],
   "source": [
    "df['SCHEDULED_DEPARTURE'] = create_flight_time(df, 'SCHEDULED_DEPARTURE')\n",
    "df['DEPARTURE_TIME'] = df['DEPARTURE_TIME'].apply(format_heure)\n",
    "df['SCHEDULED_ARRIVAL'] = df['SCHEDULED_ARRIVAL'].apply(format_heure)\n",
    "df['ARRIVAL_TIME'] = df['ARRIVAL_TIME'].apply(format_heure)"
   ]
  },
  {
   "cell_type": "markdown",
   "metadata": {},
   "source": [
    "Посмотрим переменные, которые нам нужны для создания таргета."
   ]
  },
  {
   "cell_type": "code",
   "execution_count": 20,
   "metadata": {},
   "outputs": [
    {
     "data": {
      "text/html": [
       "<div>\n",
       "<style scoped>\n",
       "    .dataframe tbody tr th:only-of-type {\n",
       "        vertical-align: middle;\n",
       "    }\n",
       "\n",
       "    .dataframe tbody tr th {\n",
       "        vertical-align: top;\n",
       "    }\n",
       "\n",
       "    .dataframe thead th {\n",
       "        text-align: right;\n",
       "    }\n",
       "</style>\n",
       "<table border=\"1\" class=\"dataframe\">\n",
       "  <thead>\n",
       "    <tr style=\"text-align: right;\">\n",
       "      <th></th>\n",
       "      <th>SCHEDULED_DEPARTURE</th>\n",
       "      <th>SCHEDULED_ARRIVAL</th>\n",
       "      <th>DEPARTURE_TIME</th>\n",
       "      <th>ARRIVAL_TIME</th>\n",
       "      <th>DEPARTURE_DELAY</th>\n",
       "      <th>ARRIVAL_DELAY</th>\n",
       "    </tr>\n",
       "  </thead>\n",
       "  <tbody>\n",
       "    <tr>\n",
       "      <th>0</th>\n",
       "      <td>2015-01-01 00:05:00</td>\n",
       "      <td>04:30:00</td>\n",
       "      <td>23:54:00</td>\n",
       "      <td>04:08:00</td>\n",
       "      <td>-11.0</td>\n",
       "      <td>-22.0</td>\n",
       "    </tr>\n",
       "    <tr>\n",
       "      <th>1</th>\n",
       "      <td>2015-01-01 00:10:00</td>\n",
       "      <td>07:50:00</td>\n",
       "      <td>00:02:00</td>\n",
       "      <td>07:41:00</td>\n",
       "      <td>-8.0</td>\n",
       "      <td>-9.0</td>\n",
       "    </tr>\n",
       "    <tr>\n",
       "      <th>2</th>\n",
       "      <td>2015-01-01 00:20:00</td>\n",
       "      <td>08:06:00</td>\n",
       "      <td>00:18:00</td>\n",
       "      <td>08:11:00</td>\n",
       "      <td>-2.0</td>\n",
       "      <td>5.0</td>\n",
       "    </tr>\n",
       "    <tr>\n",
       "      <th>3</th>\n",
       "      <td>2015-01-01 00:20:00</td>\n",
       "      <td>08:05:00</td>\n",
       "      <td>00:15:00</td>\n",
       "      <td>07:56:00</td>\n",
       "      <td>-5.0</td>\n",
       "      <td>-9.0</td>\n",
       "    </tr>\n",
       "    <tr>\n",
       "      <th>4</th>\n",
       "      <td>2015-01-01 00:25:00</td>\n",
       "      <td>03:20:00</td>\n",
       "      <td>00:24:00</td>\n",
       "      <td>02:59:00</td>\n",
       "      <td>-1.0</td>\n",
       "      <td>-21.0</td>\n",
       "    </tr>\n",
       "    <tr>\n",
       "      <th>5</th>\n",
       "      <td>2015-01-01 00:25:00</td>\n",
       "      <td>06:02:00</td>\n",
       "      <td>00:20:00</td>\n",
       "      <td>06:10:00</td>\n",
       "      <td>-5.0</td>\n",
       "      <td>8.0</td>\n",
       "    </tr>\n",
       "  </tbody>\n",
       "</table>\n",
       "</div>"
      ],
      "text/plain": [
       "  SCHEDULED_DEPARTURE SCHEDULED_ARRIVAL DEPARTURE_TIME ARRIVAL_TIME  \\\n",
       "0 2015-01-01 00:05:00          04:30:00       23:54:00     04:08:00   \n",
       "1 2015-01-01 00:10:00          07:50:00       00:02:00     07:41:00   \n",
       "2 2015-01-01 00:20:00          08:06:00       00:18:00     08:11:00   \n",
       "3 2015-01-01 00:20:00          08:05:00       00:15:00     07:56:00   \n",
       "4 2015-01-01 00:25:00          03:20:00       00:24:00     02:59:00   \n",
       "5 2015-01-01 00:25:00          06:02:00       00:20:00     06:10:00   \n",
       "\n",
       "   DEPARTURE_DELAY  ARRIVAL_DELAY  \n",
       "0            -11.0          -22.0  \n",
       "1             -8.0           -9.0  \n",
       "2             -2.0            5.0  \n",
       "3             -5.0           -9.0  \n",
       "4             -1.0          -21.0  \n",
       "5             -5.0            8.0  "
      ]
     },
     "execution_count": 20,
     "metadata": {},
     "output_type": "execute_result"
    }
   ],
   "source": [
    "df.loc[:5, ['SCHEDULED_DEPARTURE', 'SCHEDULED_ARRIVAL', 'DEPARTURE_TIME',\n",
    "             'ARRIVAL_TIME', 'DEPARTURE_DELAY', 'ARRIVAL_DELAY']]"
   ]
  },
  {
   "cell_type": "markdown",
   "metadata": {},
   "source": [
    "Создадим таргеты. В рамках данной задачи рассмотрим только задержку вылета и факт задержки более чем на 5 минут. При этом факт задержки предсказываем только для опоздания вылета, а не для более раннего вылета."
   ]
  },
  {
   "cell_type": "code",
   "execution_count": 21,
   "metadata": {},
   "outputs": [
    {
     "data": {
      "text/plain": [
       "0         0\n",
       "1         0\n",
       "2         0\n",
       "3         0\n",
       "4         0\n",
       "         ..\n",
       "469963    0\n",
       "469964    0\n",
       "469965    0\n",
       "469966    0\n",
       "469967    0\n",
       "Name: 5min_DELAY, Length: 469968, dtype: int64"
      ]
     },
     "execution_count": 21,
     "metadata": {},
     "output_type": "execute_result"
    }
   ],
   "source": [
    "df['5min_DELAY'] = df.DEPARTURE_DELAY.apply(lambda x: x > 5).astype(int)\n",
    "df['5min_DELAY']"
   ]
  },
  {
   "cell_type": "markdown",
   "metadata": {
    "_cell_guid": "7636e373-e2d9-4478-9270-2b29b436801a",
    "_uuid": "bb1bc01410ecd9c32e4955eba5ec974a6cb41afe"
   },
   "source": [
    "Удалим признаки, которые не будем рассматривать в данном разборе."
   ]
  },
  {
   "cell_type": "code",
   "execution_count": 22,
   "metadata": {
    "_cell_guid": "4d8faabc-9b14-4598-a1ec-8c8e6277db7d",
    "_kg_hide-input": true,
    "_uuid": "b4daa5a7f345e3fc5b847823f542e2bdf5a178a0",
    "tags": []
   },
   "outputs": [
    {
     "data": {
      "text/html": [
       "<div>\n",
       "<style scoped>\n",
       "    .dataframe tbody tr th:only-of-type {\n",
       "        vertical-align: middle;\n",
       "    }\n",
       "\n",
       "    .dataframe tbody tr th {\n",
       "        vertical-align: top;\n",
       "    }\n",
       "\n",
       "    .dataframe thead th {\n",
       "        text-align: right;\n",
       "    }\n",
       "</style>\n",
       "<table border=\"1\" class=\"dataframe\">\n",
       "  <thead>\n",
       "    <tr style=\"text-align: right;\">\n",
       "      <th></th>\n",
       "      <th>AIRLINE</th>\n",
       "      <th>ORIGIN_AIRPORT</th>\n",
       "      <th>DESTINATION_AIRPORT</th>\n",
       "      <th>SCHEDULED_TIME</th>\n",
       "      <th>ELAPSED_TIME</th>\n",
       "      <th>SCHEDULED_DEPARTURE</th>\n",
       "      <th>DEPARTURE_TIME</th>\n",
       "      <th>DEPARTURE_DELAY</th>\n",
       "      <th>5min_DELAY</th>\n",
       "    </tr>\n",
       "  </thead>\n",
       "  <tbody>\n",
       "    <tr>\n",
       "      <th>0</th>\n",
       "      <td>AS</td>\n",
       "      <td>ANC</td>\n",
       "      <td>SEA</td>\n",
       "      <td>205.0</td>\n",
       "      <td>194.0</td>\n",
       "      <td>2015-01-01 00:05:00</td>\n",
       "      <td>23:54:00</td>\n",
       "      <td>-11.0</td>\n",
       "      <td>0</td>\n",
       "    </tr>\n",
       "    <tr>\n",
       "      <th>1</th>\n",
       "      <td>AA</td>\n",
       "      <td>LAX</td>\n",
       "      <td>PBI</td>\n",
       "      <td>280.0</td>\n",
       "      <td>279.0</td>\n",
       "      <td>2015-01-01 00:10:00</td>\n",
       "      <td>00:02:00</td>\n",
       "      <td>-8.0</td>\n",
       "      <td>0</td>\n",
       "    </tr>\n",
       "    <tr>\n",
       "      <th>2</th>\n",
       "      <td>US</td>\n",
       "      <td>SFO</td>\n",
       "      <td>CLT</td>\n",
       "      <td>286.0</td>\n",
       "      <td>293.0</td>\n",
       "      <td>2015-01-01 00:20:00</td>\n",
       "      <td>00:18:00</td>\n",
       "      <td>-2.0</td>\n",
       "      <td>0</td>\n",
       "    </tr>\n",
       "    <tr>\n",
       "      <th>3</th>\n",
       "      <td>AA</td>\n",
       "      <td>LAX</td>\n",
       "      <td>MIA</td>\n",
       "      <td>285.0</td>\n",
       "      <td>281.0</td>\n",
       "      <td>2015-01-01 00:20:00</td>\n",
       "      <td>00:15:00</td>\n",
       "      <td>-5.0</td>\n",
       "      <td>0</td>\n",
       "    </tr>\n",
       "    <tr>\n",
       "      <th>4</th>\n",
       "      <td>AS</td>\n",
       "      <td>SEA</td>\n",
       "      <td>ANC</td>\n",
       "      <td>235.0</td>\n",
       "      <td>215.0</td>\n",
       "      <td>2015-01-01 00:25:00</td>\n",
       "      <td>00:24:00</td>\n",
       "      <td>-1.0</td>\n",
       "      <td>0</td>\n",
       "    </tr>\n",
       "  </tbody>\n",
       "</table>\n",
       "</div>"
      ],
      "text/plain": [
       "  AIRLINE ORIGIN_AIRPORT DESTINATION_AIRPORT  SCHEDULED_TIME  ELAPSED_TIME  \\\n",
       "0      AS            ANC                 SEA           205.0         194.0   \n",
       "1      AA            LAX                 PBI           280.0         279.0   \n",
       "2      US            SFO                 CLT           286.0         293.0   \n",
       "3      AA            LAX                 MIA           285.0         281.0   \n",
       "4      AS            SEA                 ANC           235.0         215.0   \n",
       "\n",
       "  SCHEDULED_DEPARTURE DEPARTURE_TIME  DEPARTURE_DELAY  5min_DELAY  \n",
       "0 2015-01-01 00:05:00       23:54:00            -11.0           0  \n",
       "1 2015-01-01 00:10:00       00:02:00             -8.0           0  \n",
       "2 2015-01-01 00:20:00       00:18:00             -2.0           0  \n",
       "3 2015-01-01 00:20:00       00:15:00             -5.0           0  \n",
       "4 2015-01-01 00:25:00       00:24:00             -1.0           0  "
      ]
     },
     "execution_count": 22,
     "metadata": {},
     "output_type": "execute_result"
    }
   ],
   "source": [
    "df = df[['AIRLINE', 'ORIGIN_AIRPORT', 'DESTINATION_AIRPORT',\n",
    "         'SCHEDULED_TIME', 'ELAPSED_TIME',\n",
    "         'SCHEDULED_DEPARTURE', 'DEPARTURE_TIME', \n",
    "         'DEPARTURE_DELAY', '5min_DELAY']]\n",
    "df[:5]"
   ]
  },
  {
   "cell_type": "markdown",
   "metadata": {},
   "source": [
    "## Исследовательский анализ данных"
   ]
  },
  {
   "cell_type": "markdown",
   "metadata": {
    "_cell_guid": "208ba5d6-a305-4458-ad95-c4499135e34f",
    "_uuid": "5f8c3345c720f977e5120d3d40b929a1fe8f1f2c"
   },
   "source": [
    "### Пропущенные значения"
   ]
  },
  {
   "cell_type": "code",
   "execution_count": 23,
   "metadata": {
    "_cell_guid": "f9d7ccec-ad93-491a-b114-ab9a6db73b56",
    "_kg_hide-input": true,
    "_uuid": "6b5db35ee0badf50e777df2bfff70f19b0bda3bc",
    "tags": []
   },
   "outputs": [
    {
     "data": {
      "text/html": [
       "<div>\n",
       "<style scoped>\n",
       "    .dataframe tbody tr th:only-of-type {\n",
       "        vertical-align: middle;\n",
       "    }\n",
       "\n",
       "    .dataframe tbody tr th {\n",
       "        vertical-align: top;\n",
       "    }\n",
       "\n",
       "    .dataframe thead th {\n",
       "        text-align: right;\n",
       "    }\n",
       "</style>\n",
       "<table border=\"1\" class=\"dataframe\">\n",
       "  <thead>\n",
       "    <tr style=\"text-align: right;\">\n",
       "      <th></th>\n",
       "      <th>variable</th>\n",
       "      <th>missing values</th>\n",
       "      <th>filling factor (%)</th>\n",
       "    </tr>\n",
       "  </thead>\n",
       "  <tbody>\n",
       "    <tr>\n",
       "      <th>0</th>\n",
       "      <td>ELAPSED_TIME</td>\n",
       "      <td>12955</td>\n",
       "      <td>97.2</td>\n",
       "    </tr>\n",
       "    <tr>\n",
       "      <th>1</th>\n",
       "      <td>DEPARTURE_TIME</td>\n",
       "      <td>11657</td>\n",
       "      <td>97.5</td>\n",
       "    </tr>\n",
       "    <tr>\n",
       "      <th>2</th>\n",
       "      <td>DEPARTURE_DELAY</td>\n",
       "      <td>11657</td>\n",
       "      <td>97.5</td>\n",
       "    </tr>\n",
       "    <tr>\n",
       "      <th>3</th>\n",
       "      <td>AIRLINE</td>\n",
       "      <td>0</td>\n",
       "      <td>100.0</td>\n",
       "    </tr>\n",
       "    <tr>\n",
       "      <th>4</th>\n",
       "      <td>ORIGIN_AIRPORT</td>\n",
       "      <td>0</td>\n",
       "      <td>100.0</td>\n",
       "    </tr>\n",
       "    <tr>\n",
       "      <th>5</th>\n",
       "      <td>DESTINATION_AIRPORT</td>\n",
       "      <td>0</td>\n",
       "      <td>100.0</td>\n",
       "    </tr>\n",
       "    <tr>\n",
       "      <th>6</th>\n",
       "      <td>SCHEDULED_TIME</td>\n",
       "      <td>0</td>\n",
       "      <td>100.0</td>\n",
       "    </tr>\n",
       "    <tr>\n",
       "      <th>7</th>\n",
       "      <td>SCHEDULED_DEPARTURE</td>\n",
       "      <td>0</td>\n",
       "      <td>100.0</td>\n",
       "    </tr>\n",
       "    <tr>\n",
       "      <th>8</th>\n",
       "      <td>5min_DELAY</td>\n",
       "      <td>0</td>\n",
       "      <td>100.0</td>\n",
       "    </tr>\n",
       "  </tbody>\n",
       "</table>\n",
       "</div>"
      ],
      "text/plain": [
       "              variable  missing values  filling factor (%)\n",
       "0         ELAPSED_TIME           12955                97.2\n",
       "1       DEPARTURE_TIME           11657                97.5\n",
       "2      DEPARTURE_DELAY           11657                97.5\n",
       "3              AIRLINE               0               100.0\n",
       "4       ORIGIN_AIRPORT               0               100.0\n",
       "5  DESTINATION_AIRPORT               0               100.0\n",
       "6       SCHEDULED_TIME               0               100.0\n",
       "7  SCHEDULED_DEPARTURE               0               100.0\n",
       "8           5min_DELAY               0               100.0"
      ]
     },
     "execution_count": 23,
     "metadata": {},
     "output_type": "execute_result"
    }
   ],
   "source": [
    "missing_df = df.isnull().sum(axis=0).reset_index()\n",
    "missing_df.columns = ['variable', 'missing values']\n",
    "missing_df['filling factor (%)']=(df.shape[0]-missing_df['missing values'])/df.shape[0]*100\n",
    "missing_df.sort_values('filling factor (%)').reset_index(drop = True)"
   ]
  },
  {
   "cell_type": "markdown",
   "metadata": {},
   "source": [
    "Так как мы не можем предсказывать пустой таргет, удалим его. И удалим случаи отрицательной задержки вылета, то есть вылет осуществлен раньше времени."
   ]
  },
  {
   "cell_type": "code",
   "execution_count": 24,
   "metadata": {},
   "outputs": [],
   "source": [
    "df = df[(df.DEPARTURE_DELAY >= 0)&(df.DEPARTURE_DELAY.notnull())].reset_index(drop=True)"
   ]
  },
  {
   "cell_type": "markdown",
   "metadata": {},
   "source": [
    "### Анализ таргетов"
   ]
  },
  {
   "cell_type": "code",
   "execution_count": 25,
   "metadata": {},
   "outputs": [
    {
     "data": {
      "text/plain": [
       "count   200912.0\n",
       "mean        28.7\n",
       "std         49.1\n",
       "min          0.0\n",
       "25%          3.0\n",
       "50%         12.0\n",
       "75%         34.0\n",
       "max       1988.0\n",
       "Name: DEPARTURE_DELAY, dtype: float64"
      ]
     },
     "execution_count": 25,
     "metadata": {},
     "output_type": "execute_result"
    }
   ],
   "source": [
    "df.DEPARTURE_DELAY.describe()"
   ]
  },
  {
   "cell_type": "code",
   "execution_count": 32,
   "metadata": {},
   "outputs": [
    {
     "data": {
      "image/png": "[encoded data removed]",
      "text/plain": [
       "<Figure size 720x720 with 1 Axes>"
      ]
     },
     "metadata": {
      "needs_background": "light"
     },
     "output_type": "display_data"
    }
   ],
   "source": [
    "plt.subplots(figsize=(10, 10))\n",
    "sns.histplot(df[df.DEPARTURE_DELAY < 120].DEPARTURE_DELAY, bins=100)\n",
    "plt.show()"
   ]
  },
  {
   "cell_type": "code",
   "execution_count": 33,
   "metadata": {},
   "outputs": [
    {
     "data": {
      "text/plain": [
       "1    132389\n",
       "0     68523\n",
       "Name: 5min_DELAY, dtype: int64"
      ]
     },
     "execution_count": 33,
     "metadata": {},
     "output_type": "execute_result"
    }
   ],
   "source": [
    "df['5min_DELAY'].value_counts()"
   ]
  },
  {
   "cell_type": "code",
   "execution_count": 34,
   "metadata": {},
   "outputs": [
    {
     "data": {
      "image/png": "[encoded data removed]",
      "text/plain": [
       "<Figure size 720x720 with 1 Axes>"
      ]
     },
     "metadata": {
      "needs_background": "light"
     },
     "output_type": "display_data"
    }
   ],
   "source": [
    "plt.subplots(figsize=(10, 10))\n",
    "sns.histplot(df['5min_DELAY'], bins=2)\n",
    "plt.show()"
   ]
  },
  {
   "cell_type": "markdown",
   "metadata": {
    "_cell_guid": "2ac6e2cc-3948-4cd2-88d1-2d0d853aae0d",
    "_uuid": "d13334e56d7e7ef54b1828066a5ecd5c0b8e4fb3"
   },
   "source": [
    "### Посмотрим зависимость таргета от авиакомпании"
   ]
  },
  {
   "cell_type": "code",
   "execution_count": 35,
   "metadata": {
    "_cell_guid": "4dc47175-b9e5-4c1c-8e7d-e9f4c4a2a0c1",
    "_kg_hide-input": true,
    "_uuid": "4bf03db2985c11552fc1ff40f658a272475b4b26",
    "tags": []
   },
   "outputs": [
    {
     "data": {
      "text/html": [
       "<div>\n",
       "<style scoped>\n",
       "    .dataframe tbody tr th:only-of-type {\n",
       "        vertical-align: middle;\n",
       "    }\n",
       "\n",
       "    .dataframe tbody tr th {\n",
       "        vertical-align: top;\n",
       "    }\n",
       "\n",
       "    .dataframe thead th {\n",
       "        text-align: right;\n",
       "    }\n",
       "</style>\n",
       "<table border=\"1\" class=\"dataframe\">\n",
       "  <thead>\n",
       "    <tr style=\"text-align: right;\">\n",
       "      <th></th>\n",
       "      <th>min</th>\n",
       "      <th>max</th>\n",
       "      <th>count</th>\n",
       "      <th>mean</th>\n",
       "    </tr>\n",
       "    <tr>\n",
       "      <th>AIRLINE</th>\n",
       "      <th></th>\n",
       "      <th></th>\n",
       "      <th></th>\n",
       "      <th></th>\n",
       "    </tr>\n",
       "  </thead>\n",
       "  <tbody>\n",
       "    <tr>\n",
       "      <th>VX</th>\n",
       "      <td>0.0</td>\n",
       "      <td>397.0</td>\n",
       "      <td>1858.0</td>\n",
       "      <td>24.7</td>\n",
       "    </tr>\n",
       "    <tr>\n",
       "      <th>HA</th>\n",
       "      <td>0.0</td>\n",
       "      <td>1003.0</td>\n",
       "      <td>2111.0</td>\n",
       "      <td>15.8</td>\n",
       "    </tr>\n",
       "    <tr>\n",
       "      <th>F9</th>\n",
       "      <td>0.0</td>\n",
       "      <td>696.0</td>\n",
       "      <td>3210.0</td>\n",
       "      <td>45.6</td>\n",
       "    </tr>\n",
       "    <tr>\n",
       "      <th>NK</th>\n",
       "      <td>0.0</td>\n",
       "      <td>557.0</td>\n",
       "      <td>4043.0</td>\n",
       "      <td>35.1</td>\n",
       "    </tr>\n",
       "    <tr>\n",
       "      <th>AS</th>\n",
       "      <td>0.0</td>\n",
       "      <td>538.0</td>\n",
       "      <td>4181.0</td>\n",
       "      <td>25.4</td>\n",
       "    </tr>\n",
       "    <tr>\n",
       "      <th>B6</th>\n",
       "      <td>0.0</td>\n",
       "      <td>500.0</td>\n",
       "      <td>8835.0</td>\n",
       "      <td>31.1</td>\n",
       "    </tr>\n",
       "    <tr>\n",
       "      <th>US</th>\n",
       "      <td>0.0</td>\n",
       "      <td>638.0</td>\n",
       "      <td>11528.0</td>\n",
       "      <td>23.8</td>\n",
       "    </tr>\n",
       "    <tr>\n",
       "      <th>MQ</th>\n",
       "      <td>0.0</td>\n",
       "      <td>780.0</td>\n",
       "      <td>13658.0</td>\n",
       "      <td>38.1</td>\n",
       "    </tr>\n",
       "    <tr>\n",
       "      <th>EV</th>\n",
       "      <td>0.0</td>\n",
       "      <td>726.0</td>\n",
       "      <td>17832.0</td>\n",
       "      <td>36.3</td>\n",
       "    </tr>\n",
       "    <tr>\n",
       "      <th>AA</th>\n",
       "      <td>0.0</td>\n",
       "      <td>1988.0</td>\n",
       "      <td>18464.0</td>\n",
       "      <td>31.7</td>\n",
       "    </tr>\n",
       "    <tr>\n",
       "      <th>OO</th>\n",
       "      <td>0.0</td>\n",
       "      <td>931.0</td>\n",
       "      <td>18503.0</td>\n",
       "      <td>40.2</td>\n",
       "    </tr>\n",
       "    <tr>\n",
       "      <th>UA</th>\n",
       "      <td>0.0</td>\n",
       "      <td>886.0</td>\n",
       "      <td>22232.0</td>\n",
       "      <td>26.7</td>\n",
       "    </tr>\n",
       "    <tr>\n",
       "      <th>DL</th>\n",
       "      <td>0.0</td>\n",
       "      <td>1184.0</td>\n",
       "      <td>24291.0</td>\n",
       "      <td>21.8</td>\n",
       "    </tr>\n",
       "    <tr>\n",
       "      <th>WN</th>\n",
       "      <td>0.0</td>\n",
       "      <td>604.0</td>\n",
       "      <td>50166.0</td>\n",
       "      <td>22.3</td>\n",
       "    </tr>\n",
       "  </tbody>\n",
       "</table>\n",
       "</div>"
      ],
      "text/plain": [
       "         min    max   count  mean\n",
       "AIRLINE                          \n",
       "VX       0.0  397.0  1858.0  24.7\n",
       "HA       0.0 1003.0  2111.0  15.8\n",
       "F9       0.0  696.0  3210.0  45.6\n",
       "NK       0.0  557.0  4043.0  35.1\n",
       "AS       0.0  538.0  4181.0  25.4\n",
       "B6       0.0  500.0  8835.0  31.1\n",
       "US       0.0  638.0 11528.0  23.8\n",
       "MQ       0.0  780.0 13658.0  38.1\n",
       "EV       0.0  726.0 17832.0  36.3\n",
       "AA       0.0 1988.0 18464.0  31.7\n",
       "OO       0.0  931.0 18503.0  40.2\n",
       "UA       0.0  886.0 22232.0  26.7\n",
       "DL       0.0 1184.0 24291.0  21.8\n",
       "WN       0.0  604.0 50166.0  22.3"
      ]
     },
     "execution_count": 35,
     "metadata": {},
     "output_type": "execute_result"
    }
   ],
   "source": [
    "def get_stats(group):\n",
    "    return {'min': group.min(), 'max': group.max(),\n",
    "            'count': group.count(), 'mean': group.mean()}\n",
    "\n",
    "global_stats = df['DEPARTURE_DELAY'].groupby(df['AIRLINE']).apply(get_stats).unstack()\n",
    "global_stats = global_stats.sort_values('count')\n",
    "global_stats"
   ]
  },
  {
   "cell_type": "code",
   "execution_count": 36,
   "metadata": {
    "_cell_guid": "ed1b8da1-052a-4114-bb6f-4bd0b832aa3b",
    "_kg_hide-input": true,
    "_uuid": "1a4d6c1e05eee52f1c92766c213a7a3ab50cb1bd",
    "tags": []
   },
   "outputs": [
    {
     "data": {
      "image/png": "[encoded data removed]",
      "text/plain": [
       "<Figure size 720x504 with 1 Axes>"
      ]
     },
     "metadata": {
      "needs_background": "light"
     },
     "output_type": "display_data"
    }
   ],
   "source": [
    "fig = plt.figure(1, figsize=(10,7))\n",
    "ax = sns.countplot(y=\"AIRLINE\", hue='5min_DELAY', data=df)\n",
    "\n",
    "labels = [abbr_companies[item.get_text()] for item in ax.get_yticklabels()]\n",
    "ax.set_yticklabels(labels)\n",
    "plt.setp(ax.get_xticklabels(), fontsize=12, weight = 'normal', rotation = 0);\n",
    "plt.setp(ax.get_yticklabels(), fontsize=12, weight = 'bold', rotation = 0);\n",
    "ax.yaxis.label.set_visible(False)\n",
    "plt.xlabel('Flight count', fontsize=16, weight = 'bold', labelpad=10)\n",
    "\n",
    "L = plt.legend()\n",
    "L.get_texts()[0].set_text('on time (t < 5 min)')\n",
    "L.get_texts()[1].set_text('delay (t > 5 min)')\n",
    "plt.show()"
   ]
  },
  {
   "cell_type": "markdown",
   "metadata": {
    "_cell_guid": "df6a500d-e61e-495d-9e2b-d2445fb9bee3",
    "_uuid": "0c59461c5d64f4479779f2591c0f18c15dda6b00"
   },
   "source": [
    "### Зависимость таргета от аэропорта"
   ]
  },
  {
   "cell_type": "code",
   "execution_count": 37,
   "metadata": {
    "_cell_guid": "043c3b7d-06b0-4785-ba63-6ff0f4bd495f",
    "_kg_hide-input": true,
    "_uuid": "4e48ddde536f319230619c786e9780bc7b25d4ad",
    "tags": []
   },
   "outputs": [
    {
     "name": "stdout",
     "output_type": "stream",
     "text": [
      "Количество аэропортов: 312\n"
     ]
    }
   ],
   "source": [
    "print(\"Количество аэропортов: {}\".format(len(df['ORIGIN_AIRPORT'].unique())))"
   ]
  },
  {
   "cell_type": "markdown",
   "metadata": {
    "_cell_guid": "d8264dcb-eaee-4ce0-b9b1-1715b15ed560",
    "_uuid": "415c8b9687284d9ffdbf1aaea9e156a74c57b222"
   },
   "source": [
    "Сколько разных аэропортов посещают авиакомпании"
   ]
  },
  {
   "cell_type": "code",
   "execution_count": 38,
   "metadata": {
    "_cell_guid": "39b8aac0-5def-4a9b-8578-369e66eee662",
    "_kg_hide-input": true,
    "_uuid": "6110299e5f3920e097bd0dd0669315c5b7ab2cd0",
    "tags": []
   },
   "outputs": [],
   "source": [
    "origin_nb = dict()\n",
    "for carrier in abbr_companies.keys():\n",
    "    liste_origin_airport = df[df['AIRLINE'] == carrier]['ORIGIN_AIRPORT'].unique()\n",
    "    origin_nb[carrier] = len(liste_origin_airport)"
   ]
  },
  {
   "cell_type": "code",
   "execution_count": 41,
   "metadata": {
    "_cell_guid": "268b73f5-79df-4341-8576-901b61c5fa8d",
    "_kg_hide-input": true,
    "_uuid": "0dae75ac6bfb237065cd066ab393a5421ea70bd4",
    "tags": []
   },
   "outputs": [
    {
     "data": {
      "image/png": "[encoded data removed]",
      "text/plain": [
       "<Figure size 1080x360 with 1 Axes>"
      ]
     },
     "metadata": {
      "needs_background": "light"
     },
     "output_type": "display_data"
    }
   ],
   "source": [
    "test_df = pd.DataFrame.from_dict(origin_nb, orient='index')\n",
    "test_df.rename(columns = {0:'count'}, inplace = True)\n",
    "ax = test_df.plot(kind='bar', figsize = (15,5))\n",
    "labels = [abbr_companies[item.get_text()] for item in ax.get_xticklabels()]\n",
    "ax.set_xticklabels(labels)\n",
    "plt.ylabel('Number of airports visited', fontsize=14, weight = 'bold', labelpad=12)\n",
    "plt.setp(ax.get_xticklabels(), fontsize=11, ha = 'right', rotation = 80)\n",
    "ax.legend().set_visible(False)\n",
    "plt.show()"
   ]
  },
  {
   "cell_type": "markdown",
   "metadata": {
    "_cell_guid": "032c19e6-a518-4eba-a260-4f06ee7c09af",
    "_uuid": "4b905c9fae552b570fa4abc22770e5c028b99644"
   },
   "source": [
    "Хитмап задержки рейса в зависимости от аэропорта и авиакомпании"
   ]
  },
  {
   "cell_type": "code",
   "execution_count": 48,
   "metadata": {},
   "outputs": [],
   "source": [
    "temp = pd.read_csv('data/airports.csv')\n",
    "identify_airport = temp.set_index('IATA_CODE')['CITY'].to_dict()\n",
    "latitude_airport = temp.set_index('IATA_CODE')['LATITUDE'].to_dict()\n",
    "longitude_airport = temp.set_index('IATA_CODE')['LONGITUDE'].to_dict()"
   ]
  },
  {
   "cell_type": "code",
   "execution_count": 49,
   "metadata": {
    "_cell_guid": "a47b96fd-5650-4fe2-916a-54734816033f",
    "_kg_hide-input": true,
    "_uuid": "9edca92438d893df9caafd9b066d547f79c4756c",
    "tags": []
   },
   "outputs": [],
   "source": [
    "airport_mean_delays = pd.DataFrame(pd.Series(df['ORIGIN_AIRPORT'].unique()))\n",
    "airport_mean_delays.set_index(0, drop = True, inplace = True)\n",
    "\n",
    "for carrier in abbr_companies.keys():\n",
    "    df1 = df[df['AIRLINE'] == carrier]\n",
    "    test = df1['DEPARTURE_DELAY'].groupby(df['ORIGIN_AIRPORT']).apply(get_stats).unstack()\n",
    "    airport_mean_delays[carrier] = test.loc[:, 'mean'] "
   ]
  },
  {
   "cell_type": "code",
   "execution_count": 51,
   "metadata": {
    "_cell_guid": "b029d5eb-50e6-4461-87fc-7effed9e5bd2",
    "_kg_hide-input": true,
    "_uuid": "a7e8d24ce06a878fbfb8a6bc405d560331c679ed",
    "tags": []
   },
   "outputs": [
    {
     "data": {
      "image/png": "[encoded data removed]",
      "text/plain": [
       "<Figure size 1152x1152 with 4 Axes>"
      ]
     },
     "metadata": {},
     "output_type": "display_data"
    }
   ],
   "source": [
    "sns.set(context=\"paper\")\n",
    "fig = plt.figure(1, figsize=(16,16))\n",
    "\n",
    "ax = fig.add_subplot(1,2,1)\n",
    "subset = airport_mean_delays.iloc[:50,:].rename(columns = abbr_companies)\n",
    "subset = subset.rename(index = identify_airport)\n",
    "mask = subset.isnull()\n",
    "sns.heatmap(subset, linewidths=0.01, cmap=\"Accent\", mask=mask, vmin = 0, vmax = 35)\n",
    "plt.setp(ax.get_xticklabels(), fontsize=10, rotation = 85) ;\n",
    "ax.yaxis.label.set_visible(False)\n",
    "\n",
    "ax = fig.add_subplot(1,2,2)    \n",
    "subset = airport_mean_delays.iloc[50:100,:].rename(columns = abbr_companies)\n",
    "subset = subset.rename(index = identify_airport)\n",
    "fig.text(0.5, 1.02, \"Delays: impact of the origin airport\", ha='center', fontsize = 18)\n",
    "mask = subset.isnull()\n",
    "sns.heatmap(subset, linewidths=0.01, cmap=\"Accent\", mask=mask, vmin = 0, vmax = 35)\n",
    "plt.setp(ax.get_xticklabels(), fontsize=10, rotation = 85) ;\n",
    "ax.yaxis.label.set_visible(False)\n",
    "\n",
    "plt.tight_layout()"
   ]
  },
  {
   "cell_type": "markdown",
   "metadata": {
    "_cell_guid": "95ea1aa5-59b2-48fe-86be-136caa27ffdd",
    "_uuid": "b9c1593a086d7aa9c1ee79db060f168ed382b5f3"
   },
   "source": [
    "### Существуют ли рейсы, которые всегда задерживают?"
   ]
  },
  {
   "cell_type": "code",
   "execution_count": 55,
   "metadata": {},
   "outputs": [],
   "source": [
    "df2 = df[df.AIRLINE == 'AA'][['DEPARTURE_DELAY']]\n",
    "df2['ROUTE'] = df[df.AIRLINE == 'AA']['ORIGIN_AIRPORT'] + '-' + df[df.AIRLINE == 'AA']['DESTINATION_AIRPORT']"
   ]
  },
  {
   "cell_type": "code",
   "execution_count": 57,
   "metadata": {},
   "outputs": [
    {
     "data": {
      "text/html": [
       "<div>\n",
       "<style scoped>\n",
       "    .dataframe tbody tr th:only-of-type {\n",
       "        vertical-align: middle;\n",
       "    }\n",
       "\n",
       "    .dataframe tbody tr th {\n",
       "        vertical-align: top;\n",
       "    }\n",
       "\n",
       "    .dataframe thead th {\n",
       "        text-align: right;\n",
       "    }\n",
       "</style>\n",
       "<table border=\"1\" class=\"dataframe\">\n",
       "  <thead>\n",
       "    <tr style=\"text-align: right;\">\n",
       "      <th></th>\n",
       "      <th>count</th>\n",
       "      <th>mean</th>\n",
       "      <th>std</th>\n",
       "      <th>min</th>\n",
       "      <th>25%</th>\n",
       "      <th>50%</th>\n",
       "      <th>75%</th>\n",
       "      <th>max</th>\n",
       "    </tr>\n",
       "    <tr>\n",
       "      <th>ROUTE</th>\n",
       "      <th></th>\n",
       "      <th></th>\n",
       "      <th></th>\n",
       "      <th></th>\n",
       "      <th></th>\n",
       "      <th></th>\n",
       "      <th></th>\n",
       "      <th></th>\n",
       "    </tr>\n",
       "  </thead>\n",
       "  <tbody>\n",
       "    <tr>\n",
       "      <th>TUL-ORD</th>\n",
       "      <td>2.0</td>\n",
       "      <td>38.5</td>\n",
       "      <td>3.5</td>\n",
       "      <td>36.0</td>\n",
       "      <td>37.2</td>\n",
       "      <td>38.5</td>\n",
       "      <td>39.8</td>\n",
       "      <td>41.0</td>\n",
       "    </tr>\n",
       "    <tr>\n",
       "      <th>MTJ-DFW</th>\n",
       "      <td>3.0</td>\n",
       "      <td>41.7</td>\n",
       "      <td>11.4</td>\n",
       "      <td>29.0</td>\n",
       "      <td>37.0</td>\n",
       "      <td>45.0</td>\n",
       "      <td>48.0</td>\n",
       "      <td>51.0</td>\n",
       "    </tr>\n",
       "    <tr>\n",
       "      <th>MIA-TUL</th>\n",
       "      <td>2.0</td>\n",
       "      <td>27.5</td>\n",
       "      <td>10.6</td>\n",
       "      <td>20.0</td>\n",
       "      <td>23.8</td>\n",
       "      <td>27.5</td>\n",
       "      <td>31.2</td>\n",
       "      <td>35.0</td>\n",
       "    </tr>\n",
       "    <tr>\n",
       "      <th>STT-JFK</th>\n",
       "      <td>9.0</td>\n",
       "      <td>131.8</td>\n",
       "      <td>104.1</td>\n",
       "      <td>17.0</td>\n",
       "      <td>43.0</td>\n",
       "      <td>100.0</td>\n",
       "      <td>209.0</td>\n",
       "      <td>316.0</td>\n",
       "    </tr>\n",
       "    <tr>\n",
       "      <th>PHL-CLT</th>\n",
       "      <td>6.0</td>\n",
       "      <td>269.7</td>\n",
       "      <td>461.5</td>\n",
       "      <td>13.0</td>\n",
       "      <td>46.2</td>\n",
       "      <td>100.0</td>\n",
       "      <td>153.8</td>\n",
       "      <td>1205.0</td>\n",
       "    </tr>\n",
       "    <tr>\n",
       "      <th>...</th>\n",
       "      <td>...</td>\n",
       "      <td>...</td>\n",
       "      <td>...</td>\n",
       "      <td>...</td>\n",
       "      <td>...</td>\n",
       "      <td>...</td>\n",
       "      <td>...</td>\n",
       "      <td>...</td>\n",
       "    </tr>\n",
       "    <tr>\n",
       "      <th>EGE-JFK</th>\n",
       "      <td>10.0</td>\n",
       "      <td>61.5</td>\n",
       "      <td>74.3</td>\n",
       "      <td>0.0</td>\n",
       "      <td>3.8</td>\n",
       "      <td>18.5</td>\n",
       "      <td>125.0</td>\n",
       "      <td>178.0</td>\n",
       "    </tr>\n",
       "    <tr>\n",
       "      <th>EGE-DFW</th>\n",
       "      <td>26.0</td>\n",
       "      <td>100.7</td>\n",
       "      <td>235.7</td>\n",
       "      <td>0.0</td>\n",
       "      <td>12.2</td>\n",
       "      <td>31.5</td>\n",
       "      <td>68.0</td>\n",
       "      <td>1190.0</td>\n",
       "    </tr>\n",
       "    <tr>\n",
       "      <th>DTW-MIA</th>\n",
       "      <td>22.0</td>\n",
       "      <td>20.8</td>\n",
       "      <td>42.0</td>\n",
       "      <td>0.0</td>\n",
       "      <td>3.2</td>\n",
       "      <td>9.0</td>\n",
       "      <td>25.2</td>\n",
       "      <td>200.0</td>\n",
       "    </tr>\n",
       "    <tr>\n",
       "      <th>DTW-DFW</th>\n",
       "      <td>62.0</td>\n",
       "      <td>25.7</td>\n",
       "      <td>45.0</td>\n",
       "      <td>0.0</td>\n",
       "      <td>2.0</td>\n",
       "      <td>9.5</td>\n",
       "      <td>23.8</td>\n",
       "      <td>229.0</td>\n",
       "    </tr>\n",
       "    <tr>\n",
       "      <th>LAX-IAD</th>\n",
       "      <td>17.0</td>\n",
       "      <td>34.5</td>\n",
       "      <td>61.5</td>\n",
       "      <td>0.0</td>\n",
       "      <td>1.0</td>\n",
       "      <td>8.0</td>\n",
       "      <td>45.0</td>\n",
       "      <td>234.0</td>\n",
       "    </tr>\n",
       "  </tbody>\n",
       "</table>\n",
       "<p>352 rows × 8 columns</p>\n",
       "</div>"
      ],
      "text/plain": [
       "         count  mean   std  min  25%   50%   75%    max\n",
       "ROUTE                                                  \n",
       "TUL-ORD    2.0  38.5   3.5 36.0 37.2  38.5  39.8   41.0\n",
       "MTJ-DFW    3.0  41.7  11.4 29.0 37.0  45.0  48.0   51.0\n",
       "MIA-TUL    2.0  27.5  10.6 20.0 23.8  27.5  31.2   35.0\n",
       "STT-JFK    9.0 131.8 104.1 17.0 43.0 100.0 209.0  316.0\n",
       "PHL-CLT    6.0 269.7 461.5 13.0 46.2 100.0 153.8 1205.0\n",
       "...        ...   ...   ...  ...  ...   ...   ...    ...\n",
       "EGE-JFK   10.0  61.5  74.3  0.0  3.8  18.5 125.0  178.0\n",
       "EGE-DFW   26.0 100.7 235.7  0.0 12.2  31.5  68.0 1190.0\n",
       "DTW-MIA   22.0  20.8  42.0  0.0  3.2   9.0  25.2  200.0\n",
       "DTW-DFW   62.0  25.7  45.0  0.0  2.0   9.5  23.8  229.0\n",
       "LAX-IAD   17.0  34.5  61.5  0.0  1.0   8.0  45.0  234.0\n",
       "\n",
       "[352 rows x 8 columns]"
      ]
     },
     "execution_count": 57,
     "metadata": {},
     "output_type": "execute_result"
    }
   ],
   "source": [
    "df2.groupby('ROUTE').DEPARTURE_DELAY.describe().sort_values('min', ascending=False)"
   ]
  },
  {
   "cell_type": "markdown",
   "metadata": {
    "_cell_guid": "c968a42d-d155-430f-a929-631571f1713b",
    "_uuid": "5b68cd855f24407af4b0907f024e7f7f7f4b1f4c"
   },
   "source": [
    "## Подготовка данных к обучению моделей"
   ]
  },
  {
   "cell_type": "markdown",
   "metadata": {},
   "source": [
    "### Разбиение на трейн и финальный тест"
   ]
  },
  {
   "cell_type": "code",
   "execution_count": 156,
   "metadata": {
    "_cell_guid": "63031db7-e01a-4016-bd3f-882c67374009",
    "_kg_hide-input": true,
    "_uuid": "95ffff28eba2f3cd3696f4b35311d62c79f10398",
    "tags": []
   },
   "outputs": [],
   "source": [
    "df_train = df[df['SCHEDULED_DEPARTURE'].apply(lambda x:x.date()) < datetime.date(2015, 1, 23)]\n",
    "df_train = df_train.drop(['DEPARTURE_TIME'], axis=1).reset_index(drop=True)\n",
    "\n",
    "df_test  = df[df['SCHEDULED_DEPARTURE'].apply(lambda x:x.date()) > datetime.date(2015, 1, 23)]\n",
    "df_test = df_test.drop(['DEPARTURE_TIME'], axis=1).reset_index(drop=True)"
   ]
  },
  {
   "cell_type": "code",
   "execution_count": 157,
   "metadata": {},
   "outputs": [
    {
     "name": "stdout",
     "output_type": "stream",
     "text": [
      "Train shape: (157629, 8)\n",
      "Test shape: (37544, 8)\n"
     ]
    }
   ],
   "source": [
    "print('Train shape:', df_train.shape)\n",
    "print('Test shape:', df_test.shape)"
   ]
  },
  {
   "cell_type": "markdown",
   "metadata": {},
   "source": [
    "### Генерация фичей"
   ]
  },
  {
   "cell_type": "markdown",
   "metadata": {},
   "source": [
    "Признаки даты и времени"
   ]
  },
  {
   "cell_type": "code",
   "execution_count": 158,
   "metadata": {},
   "outputs": [
    {
     "data": {
      "text/html": [
       "<div>\n",
       "<style scoped>\n",
       "    .dataframe tbody tr th:only-of-type {\n",
       "        vertical-align: middle;\n",
       "    }\n",
       "\n",
       "    .dataframe tbody tr th {\n",
       "        vertical-align: top;\n",
       "    }\n",
       "\n",
       "    .dataframe thead th {\n",
       "        text-align: right;\n",
       "    }\n",
       "</style>\n",
       "<table border=\"1\" class=\"dataframe\">\n",
       "  <thead>\n",
       "    <tr style=\"text-align: right;\">\n",
       "      <th></th>\n",
       "      <th>month</th>\n",
       "      <th>day</th>\n",
       "      <th>weekday</th>\n",
       "      <th>hour</th>\n",
       "      <th>minute</th>\n",
       "    </tr>\n",
       "  </thead>\n",
       "  <tbody>\n",
       "    <tr>\n",
       "      <th>0</th>\n",
       "      <td>1</td>\n",
       "      <td>1</td>\n",
       "      <td>3</td>\n",
       "      <td>0</td>\n",
       "      <td>30</td>\n",
       "    </tr>\n",
       "    <tr>\n",
       "      <th>1</th>\n",
       "      <td>1</td>\n",
       "      <td>1</td>\n",
       "      <td>3</td>\n",
       "      <td>0</td>\n",
       "      <td>30</td>\n",
       "    </tr>\n",
       "    <tr>\n",
       "      <th>2</th>\n",
       "      <td>1</td>\n",
       "      <td>1</td>\n",
       "      <td>3</td>\n",
       "      <td>0</td>\n",
       "      <td>35</td>\n",
       "    </tr>\n",
       "    <tr>\n",
       "      <th>3</th>\n",
       "      <td>1</td>\n",
       "      <td>1</td>\n",
       "      <td>3</td>\n",
       "      <td>0</td>\n",
       "      <td>55</td>\n",
       "    </tr>\n",
       "    <tr>\n",
       "      <th>4</th>\n",
       "      <td>1</td>\n",
       "      <td>1</td>\n",
       "      <td>3</td>\n",
       "      <td>1</td>\n",
       "      <td>15</td>\n",
       "    </tr>\n",
       "  </tbody>\n",
       "</table>\n",
       "</div>"
      ],
      "text/plain": [
       "   month  day  weekday  hour  minute\n",
       "0      1    1        3     0      30\n",
       "1      1    1        3     0      30\n",
       "2      1    1        3     0      35\n",
       "3      1    1        3     0      55\n",
       "4      1    1        3     1      15"
      ]
     },
     "execution_count": 158,
     "metadata": {},
     "output_type": "execute_result"
    }
   ],
   "source": [
    "df_train['month'] = df_train.SCHEDULED_DEPARTURE.apply(lambda x: x.month)\n",
    "df_train['day'] = df_train.SCHEDULED_DEPARTURE.apply(lambda x: x.day)\n",
    "df_train['weekday'] = df_train.SCHEDULED_DEPARTURE.apply(lambda x: x.weekday())\n",
    "df_train['hour'] = df_train.SCHEDULED_DEPARTURE.apply(lambda x: x.hour)\n",
    "df_train['minute'] = df_train.SCHEDULED_DEPARTURE.apply(lambda x: x.minute)\n",
    "\n",
    "df_test['month'] = df_test.SCHEDULED_DEPARTURE.apply(lambda x: x.month)\n",
    "df_test['day'] = df_test.SCHEDULED_DEPARTURE.apply(lambda x: x.day)\n",
    "df_test['weekday'] = df_test.SCHEDULED_DEPARTURE.apply(lambda x: x.weekday())\n",
    "df_test['hour'] = df_test.SCHEDULED_DEPARTURE.apply(lambda x: x.hour)\n",
    "df_test['minute'] = df_test.SCHEDULED_DEPARTURE.apply(lambda x: x.minute)\n",
    "\n",
    "df_train[['month', 'day', 'weekday', 'hour', 'minute']].head()"
   ]
  },
  {
   "cell_type": "markdown",
   "metadata": {},
   "source": [
    "Создание категориального признака: маршрут из аэропорта вылета и прибытия + авиакомпания"
   ]
  },
  {
   "cell_type": "code",
   "execution_count": 159,
   "metadata": {},
   "outputs": [
    {
     "data": {
      "text/html": [
       "<div>\n",
       "<style scoped>\n",
       "    .dataframe tbody tr th:only-of-type {\n",
       "        vertical-align: middle;\n",
       "    }\n",
       "\n",
       "    .dataframe tbody tr th {\n",
       "        vertical-align: top;\n",
       "    }\n",
       "\n",
       "    .dataframe thead th {\n",
       "        text-align: right;\n",
       "    }\n",
       "</style>\n",
       "<table border=\"1\" class=\"dataframe\">\n",
       "  <thead>\n",
       "    <tr style=\"text-align: right;\">\n",
       "      <th></th>\n",
       "      <th>route</th>\n",
       "      <th>route_airline</th>\n",
       "    </tr>\n",
       "  </thead>\n",
       "  <tbody>\n",
       "    <tr>\n",
       "      <th>0</th>\n",
       "      <td>LAX-CLT</td>\n",
       "      <td>US/LAX-CLT</td>\n",
       "    </tr>\n",
       "    <tr>\n",
       "      <th>1</th>\n",
       "      <td>LAS-ATL</td>\n",
       "      <td>DL/LAS-ATL</td>\n",
       "    </tr>\n",
       "    <tr>\n",
       "      <th>2</th>\n",
       "      <td>LAX-MSP</td>\n",
       "      <td>DL/LAX-MSP</td>\n",
       "    </tr>\n",
       "    <tr>\n",
       "      <th>3</th>\n",
       "      <td>LAS-MCI</td>\n",
       "      <td>NK/LAS-MCI</td>\n",
       "    </tr>\n",
       "    <tr>\n",
       "      <th>4</th>\n",
       "      <td>MSP-FLL</td>\n",
       "      <td>NK/MSP-FLL</td>\n",
       "    </tr>\n",
       "  </tbody>\n",
       "</table>\n",
       "</div>"
      ],
      "text/plain": [
       "     route route_airline\n",
       "0  LAX-CLT    US/LAX-CLT\n",
       "1  LAS-ATL    DL/LAS-ATL\n",
       "2  LAX-MSP    DL/LAX-MSP\n",
       "3  LAS-MCI    NK/LAS-MCI\n",
       "4  MSP-FLL    NK/MSP-FLL"
      ]
     },
     "execution_count": 159,
     "metadata": {},
     "output_type": "execute_result"
    }
   ],
   "source": [
    "df_train['route'] = df_train['ORIGIN_AIRPORT'] + '-' + df_train['DESTINATION_AIRPORT']\n",
    "df_train['route_airline'] = df_train['AIRLINE'] + '/' + df_train['route']\n",
    "\n",
    "df_test['route'] = df_test['ORIGIN_AIRPORT'] + '-' + df_test['DESTINATION_AIRPORT']\n",
    "df_test['route_airline'] = df_test['AIRLINE'] + '/' + df_test['route']\n",
    "\n",
    "df_train[['route', 'route_airline']].head()"
   ]
  },
  {
   "cell_type": "markdown",
   "metadata": {},
   "source": [
    "Добавление исторических признаков"
   ]
  },
  {
   "cell_type": "code",
   "execution_count": 160,
   "metadata": {},
   "outputs": [
    {
     "data": {
      "text/plain": [
       "4115"
      ]
     },
     "execution_count": 160,
     "metadata": {},
     "output_type": "execute_result"
    }
   ],
   "source": [
    "df_train.route.nunique()"
   ]
  },
  {
   "cell_type": "code",
   "execution_count": 161,
   "metadata": {},
   "outputs": [
    {
     "data": {
      "text/plain": [
       "6327"
      ]
     },
     "execution_count": 161,
     "metadata": {},
     "output_type": "execute_result"
    }
   ],
   "source": [
    "df_train.route_airline.nunique()"
   ]
  },
  {
   "cell_type": "markdown",
   "metadata": {},
   "source": [
    "Так как уникальных маршрутов получилось очень много и этот признак будет сложно использовать как категориальный, то можно преобразовать категориальный признак в исторические статистики этого признака."
   ]
  },
  {
   "cell_type": "code",
   "execution_count": 162,
   "metadata": {},
   "outputs": [],
   "source": [
    "temp = df_train.groupby('route_airline').DEPARTURE_DELAY.describe().reset_index()"
   ]
  },
  {
   "cell_type": "code",
   "execution_count": 163,
   "metadata": {},
   "outputs": [
    {
     "data": {
      "text/html": [
       "<div>\n",
       "<style scoped>\n",
       "    .dataframe tbody tr th:only-of-type {\n",
       "        vertical-align: middle;\n",
       "    }\n",
       "\n",
       "    .dataframe tbody tr th {\n",
       "        vertical-align: top;\n",
       "    }\n",
       "\n",
       "    .dataframe thead th {\n",
       "        text-align: right;\n",
       "    }\n",
       "</style>\n",
       "<table border=\"1\" class=\"dataframe\">\n",
       "  <thead>\n",
       "    <tr style=\"text-align: right;\">\n",
       "      <th></th>\n",
       "      <th>route_airline</th>\n",
       "      <th>count</th>\n",
       "      <th>mean</th>\n",
       "      <th>std</th>\n",
       "      <th>min</th>\n",
       "      <th>25%</th>\n",
       "      <th>50%</th>\n",
       "      <th>75%</th>\n",
       "      <th>max</th>\n",
       "    </tr>\n",
       "  </thead>\n",
       "  <tbody>\n",
       "    <tr>\n",
       "      <th>0</th>\n",
       "      <td>AA/ABQ-DFW</td>\n",
       "      <td>29.0</td>\n",
       "      <td>31.8</td>\n",
       "      <td>91.7</td>\n",
       "      <td>0.0</td>\n",
       "      <td>2.0</td>\n",
       "      <td>8.0</td>\n",
       "      <td>17.0</td>\n",
       "      <td>499.0</td>\n",
       "    </tr>\n",
       "    <tr>\n",
       "      <th>1</th>\n",
       "      <td>AA/ATL-DFW</td>\n",
       "      <td>83.0</td>\n",
       "      <td>35.9</td>\n",
       "      <td>60.1</td>\n",
       "      <td>0.0</td>\n",
       "      <td>5.0</td>\n",
       "      <td>15.0</td>\n",
       "      <td>45.5</td>\n",
       "      <td>431.0</td>\n",
       "    </tr>\n",
       "    <tr>\n",
       "      <th>2</th>\n",
       "      <td>AA/ATL-MIA</td>\n",
       "      <td>19.0</td>\n",
       "      <td>24.0</td>\n",
       "      <td>37.5</td>\n",
       "      <td>0.0</td>\n",
       "      <td>1.5</td>\n",
       "      <td>10.0</td>\n",
       "      <td>26.5</td>\n",
       "      <td>147.0</td>\n",
       "    </tr>\n",
       "    <tr>\n",
       "      <th>3</th>\n",
       "      <td>AA/AUS-DFW</td>\n",
       "      <td>106.0</td>\n",
       "      <td>42.8</td>\n",
       "      <td>145.5</td>\n",
       "      <td>0.0</td>\n",
       "      <td>4.0</td>\n",
       "      <td>14.0</td>\n",
       "      <td>38.5</td>\n",
       "      <td>1450.0</td>\n",
       "    </tr>\n",
       "    <tr>\n",
       "      <th>4</th>\n",
       "      <td>AA/AUS-JFK</td>\n",
       "      <td>6.0</td>\n",
       "      <td>42.3</td>\n",
       "      <td>44.6</td>\n",
       "      <td>1.0</td>\n",
       "      <td>8.2</td>\n",
       "      <td>30.5</td>\n",
       "      <td>66.2</td>\n",
       "      <td>113.0</td>\n",
       "    </tr>\n",
       "  </tbody>\n",
       "</table>\n",
       "</div>"
      ],
      "text/plain": [
       "  route_airline  count  mean   std  min  25%  50%  75%    max\n",
       "0    AA/ABQ-DFW   29.0  31.8  91.7  0.0  2.0  8.0 17.0  499.0\n",
       "1    AA/ATL-DFW   83.0  35.9  60.1  0.0  5.0 15.0 45.5  431.0\n",
       "2    AA/ATL-MIA   19.0  24.0  37.5  0.0  1.5 10.0 26.5  147.0\n",
       "3    AA/AUS-DFW  106.0  42.8 145.5  0.0  4.0 14.0 38.5 1450.0\n",
       "4    AA/AUS-JFK    6.0  42.3  44.6  1.0  8.2 30.5 66.2  113.0"
      ]
     },
     "execution_count": 163,
     "metadata": {},
     "output_type": "execute_result"
    }
   ],
   "source": [
    "temp.head()"
   ]
  },
  {
   "cell_type": "code",
   "execution_count": 164,
   "metadata": {},
   "outputs": [],
   "source": [
    "df_train = pd.merge(df_train, temp[['route_airline', 'mean', 'min', 'max']],\n",
    "                    on='route_airline', how='left')\n",
    "df_test = pd.merge(df_test, temp[['route_airline', 'mean', 'min', 'max']],\n",
    "                    on='route_airline', how='left')"
   ]
  },
  {
   "cell_type": "code",
   "execution_count": 165,
   "metadata": {},
   "outputs": [
    {
     "data": {
      "text/html": [
       "<div>\n",
       "<style scoped>\n",
       "    .dataframe tbody tr th:only-of-type {\n",
       "        vertical-align: middle;\n",
       "    }\n",
       "\n",
       "    .dataframe tbody tr th {\n",
       "        vertical-align: top;\n",
       "    }\n",
       "\n",
       "    .dataframe thead th {\n",
       "        text-align: right;\n",
       "    }\n",
       "</style>\n",
       "<table border=\"1\" class=\"dataframe\">\n",
       "  <thead>\n",
       "    <tr style=\"text-align: right;\">\n",
       "      <th></th>\n",
       "      <th>AIRLINE</th>\n",
       "      <th>ORIGIN_AIRPORT</th>\n",
       "      <th>DESTINATION_AIRPORT</th>\n",
       "      <th>SCHEDULED_TIME</th>\n",
       "      <th>ELAPSED_TIME</th>\n",
       "      <th>SCHEDULED_DEPARTURE</th>\n",
       "      <th>DEPARTURE_DELAY</th>\n",
       "      <th>5min_DELAY</th>\n",
       "      <th>month</th>\n",
       "      <th>day</th>\n",
       "      <th>weekday</th>\n",
       "      <th>hour</th>\n",
       "      <th>minute</th>\n",
       "      <th>route</th>\n",
       "      <th>route_airline</th>\n",
       "      <th>mean</th>\n",
       "      <th>min</th>\n",
       "      <th>max</th>\n",
       "    </tr>\n",
       "  </thead>\n",
       "  <tbody>\n",
       "    <tr>\n",
       "      <th>0</th>\n",
       "      <td>US</td>\n",
       "      <td>LAX</td>\n",
       "      <td>CLT</td>\n",
       "      <td>273.0</td>\n",
       "      <td>249.0</td>\n",
       "      <td>2015-01-01 00:30:00</td>\n",
       "      <td>14.0</td>\n",
       "      <td>1</td>\n",
       "      <td>1</td>\n",
       "      <td>1</td>\n",
       "      <td>3</td>\n",
       "      <td>0</td>\n",
       "      <td>30</td>\n",
       "      <td>LAX-CLT</td>\n",
       "      <td>US/LAX-CLT</td>\n",
       "      <td>16.6</td>\n",
       "      <td>0.0</td>\n",
       "      <td>140.0</td>\n",
       "    </tr>\n",
       "    <tr>\n",
       "      <th>1</th>\n",
       "      <td>DL</td>\n",
       "      <td>LAS</td>\n",
       "      <td>ATL</td>\n",
       "      <td>221.0</td>\n",
       "      <td>203.0</td>\n",
       "      <td>2015-01-01 00:30:00</td>\n",
       "      <td>3.0</td>\n",
       "      <td>0</td>\n",
       "      <td>1</td>\n",
       "      <td>1</td>\n",
       "      <td>3</td>\n",
       "      <td>0</td>\n",
       "      <td>30</td>\n",
       "      <td>LAS-ATL</td>\n",
       "      <td>DL/LAS-ATL</td>\n",
       "      <td>12.8</td>\n",
       "      <td>0.0</td>\n",
       "      <td>143.0</td>\n",
       "    </tr>\n",
       "    <tr>\n",
       "      <th>2</th>\n",
       "      <td>DL</td>\n",
       "      <td>LAX</td>\n",
       "      <td>MSP</td>\n",
       "      <td>214.0</td>\n",
       "      <td>210.0</td>\n",
       "      <td>2015-01-01 00:35:00</td>\n",
       "      <td>0.0</td>\n",
       "      <td>0</td>\n",
       "      <td>1</td>\n",
       "      <td>1</td>\n",
       "      <td>3</td>\n",
       "      <td>0</td>\n",
       "      <td>35</td>\n",
       "      <td>LAX-MSP</td>\n",
       "      <td>DL/LAX-MSP</td>\n",
       "      <td>15.4</td>\n",
       "      <td>0.0</td>\n",
       "      <td>75.0</td>\n",
       "    </tr>\n",
       "    <tr>\n",
       "      <th>3</th>\n",
       "      <td>NK</td>\n",
       "      <td>LAS</td>\n",
       "      <td>MCI</td>\n",
       "      <td>162.0</td>\n",
       "      <td>143.0</td>\n",
       "      <td>2015-01-01 00:55:00</td>\n",
       "      <td>25.0</td>\n",
       "      <td>1</td>\n",
       "      <td>1</td>\n",
       "      <td>1</td>\n",
       "      <td>3</td>\n",
       "      <td>0</td>\n",
       "      <td>55</td>\n",
       "      <td>LAS-MCI</td>\n",
       "      <td>NK/LAS-MCI</td>\n",
       "      <td>34.2</td>\n",
       "      <td>1.0</td>\n",
       "      <td>70.0</td>\n",
       "    </tr>\n",
       "    <tr>\n",
       "      <th>4</th>\n",
       "      <td>NK</td>\n",
       "      <td>MSP</td>\n",
       "      <td>FLL</td>\n",
       "      <td>207.0</td>\n",
       "      <td>220.0</td>\n",
       "      <td>2015-01-01 01:15:00</td>\n",
       "      <td>12.0</td>\n",
       "      <td>1</td>\n",
       "      <td>1</td>\n",
       "      <td>1</td>\n",
       "      <td>3</td>\n",
       "      <td>1</td>\n",
       "      <td>15</td>\n",
       "      <td>MSP-FLL</td>\n",
       "      <td>NK/MSP-FLL</td>\n",
       "      <td>36.8</td>\n",
       "      <td>8.0</td>\n",
       "      <td>114.0</td>\n",
       "    </tr>\n",
       "  </tbody>\n",
       "</table>\n",
       "</div>"
      ],
      "text/plain": [
       "  AIRLINE ORIGIN_AIRPORT DESTINATION_AIRPORT  SCHEDULED_TIME  ELAPSED_TIME  \\\n",
       "0      US            LAX                 CLT           273.0         249.0   \n",
       "1      DL            LAS                 ATL           221.0         203.0   \n",
       "2      DL            LAX                 MSP           214.0         210.0   \n",
       "3      NK            LAS                 MCI           162.0         143.0   \n",
       "4      NK            MSP                 FLL           207.0         220.0   \n",
       "\n",
       "  SCHEDULED_DEPARTURE  DEPARTURE_DELAY  5min_DELAY  month  day  weekday  hour  \\\n",
       "0 2015-01-01 00:30:00             14.0           1      1    1        3     0   \n",
       "1 2015-01-01 00:30:00              3.0           0      1    1        3     0   \n",
       "2 2015-01-01 00:35:00              0.0           0      1    1        3     0   \n",
       "3 2015-01-01 00:55:00             25.0           1      1    1        3     0   \n",
       "4 2015-01-01 01:15:00             12.0           1      1    1        3     1   \n",
       "\n",
       "   minute    route route_airline  mean  min   max  \n",
       "0      30  LAX-CLT    US/LAX-CLT  16.6  0.0 140.0  \n",
       "1      30  LAS-ATL    DL/LAS-ATL  12.8  0.0 143.0  \n",
       "2      35  LAX-MSP    DL/LAX-MSP  15.4  0.0  75.0  \n",
       "3      55  LAS-MCI    NK/LAS-MCI  34.2  1.0  70.0  \n",
       "4      15  MSP-FLL    NK/MSP-FLL  36.8  8.0 114.0  "
      ]
     },
     "execution_count": 165,
     "metadata": {},
     "output_type": "execute_result"
    }
   ],
   "source": [
    "df_train.head()"
   ]
  },
  {
   "cell_type": "code",
   "execution_count": 166,
   "metadata": {},
   "outputs": [],
   "source": [
    "df_train = df_train.drop(['route'], axis=1)\n",
    "df_test = df_test.drop(['route'], axis=1)"
   ]
  },
  {
   "cell_type": "markdown",
   "metadata": {},
   "source": [
    "Так как в качестве модели мы будем использовать CatBoost, можем оставить признак __route_airline__ как текстовый."
   ]
  },
  {
   "cell_type": "code",
   "execution_count": 167,
   "metadata": {},
   "outputs": [],
   "source": [
    "df_train['route_airline'] = df_train['route_airline'].apply(lambda x: x.replace('/', ' ').replace('-', ' '))\n",
    "df_test['route_airline'] = df_test['route_airline'].apply(lambda x: x.replace('/', ' ').replace('-', ' '))"
   ]
  },
  {
   "cell_type": "markdown",
   "metadata": {},
   "source": [
    "### Преобразованиие данных в X и y"
   ]
  },
  {
   "cell_type": "code",
   "execution_count": 168,
   "metadata": {},
   "outputs": [],
   "source": [
    "X = df_train.drop(['SCHEDULED_DEPARTURE', 'DEPARTURE_DELAY', '5min_DELAY'], axis=1)\n",
    "y_regression = df_train['DEPARTURE_DELAY']\n",
    "y_classification = df_train['5min_DELAY']\n",
    "\n",
    "cat_features = ['AIRLINE', 'ORIGIN_AIRPORT', 'DESTINATION_AIRPORT', 'day', 'weekday', 'hour']\n",
    "text_features = ['route_airline']\n",
    "\n",
    "X_test = df_test.drop(['SCHEDULED_DEPARTURE', 'DEPARTURE_DELAY', '5min_DELAY'], axis=1)\n",
    "y_test_regression = df_test['DEPARTURE_DELAY']\n",
    "y_test_classification = df_test['5min_DELAY']"
   ]
  },
  {
   "cell_type": "markdown",
   "metadata": {
    "_cell_guid": "0283baf2-6a41-4697-81f4-626d96be4dfe",
    "_uuid": "cfe280eddf43c84b74bf621f4a4248bea1641dad"
   },
   "source": [
    "## Обучение и тестирование моделей"
   ]
  },
  {
   "cell_type": "markdown",
   "metadata": {},
   "source": [
    "### Подход №1: Регрессия моделью + классификация по условию"
   ]
  },
  {
   "cell_type": "code",
   "execution_count": 142,
   "metadata": {},
   "outputs": [],
   "source": [
    "X_train, X_val, y_train, y_val = train_test_split(X.drop(text_features, axis=1), \n",
    "                                                  y_regression, \n",
    "                                                  test_size=0.15, random_state=17)"
   ]
  },
  {
   "cell_type": "code",
   "execution_count": 143,
   "metadata": {},
   "outputs": [
    {
     "name": "stdout",
     "output_type": "stream",
     "text": [
      "Learning rate set to 0.116279\n",
      "0:\tlearn: 48.8862822\ttest: 53.2194914\tbest: 53.2194914 (0)\ttotal: 40.4ms\tremaining: 40.4s\n",
      "100:\tlearn: 44.7589872\ttest: 49.2935014\tbest: 49.2765609 (92)\ttotal: 5.44s\tremaining: 48.4s\n",
      "200:\tlearn: 44.0794688\ttest: 49.1830878\tbest: 49.1830878 (200)\ttotal: 10.9s\tremaining: 43.3s\n",
      "300:\tlearn: 43.6265353\ttest: 49.1257910\tbest: 49.1204494 (286)\ttotal: 16.7s\tremaining: 38.7s\n",
      "400:\tlearn: 43.2599619\ttest: 49.0751962\tbest: 49.0676076 (394)\ttotal: 22.1s\tremaining: 33.1s\n",
      "500:\tlearn: 42.9280566\ttest: 49.0959378\tbest: 49.0504719 (421)\ttotal: 27.6s\tremaining: 27.5s\n",
      "600:\tlearn: 42.6112853\ttest: 49.0938183\tbest: 49.0504719 (421)\ttotal: 33.5s\tremaining: 22.2s\n",
      "700:\tlearn: 42.3259333\ttest: 49.1087438\tbest: 49.0504719 (421)\ttotal: 39.3s\tremaining: 16.8s\n",
      "800:\tlearn: 42.0311405\ttest: 49.0965007\tbest: 49.0504719 (421)\ttotal: 45.1s\tremaining: 11.2s\n",
      "900:\tlearn: 41.7608538\ttest: 49.1256753\tbest: 49.0504719 (421)\ttotal: 51s\tremaining: 5.6s\n",
      "999:\tlearn: 41.5289437\ttest: 49.1357711\tbest: 49.0504719 (421)\ttotal: 57.3s\tremaining: 0us\n",
      "\n",
      "bestTest = 49.05047188\n",
      "bestIteration = 421\n",
      "\n",
      "Shrink model to first 422 iterations.\n"
     ]
    },
    {
     "data": {
      "text/plain": [
       "<catboost.core.CatBoostRegressor at 0x1f5ef3430>"
      ]
     },
     "execution_count": 143,
     "metadata": {},
     "output_type": "execute_result"
    }
   ],
   "source": [
    "model_regression = CatBoostRegressor(\n",
    "    verbose=100,\n",
    "    cat_features=cat_features\n",
    ")\n",
    "\n",
    "model_regression.fit(X_train, y_train, eval_set=(X_val, y_val))"
   ]
  },
  {
   "cell_type": "code",
   "execution_count": 144,
   "metadata": {},
   "outputs": [],
   "source": [
    "preds_test_regression = model_regression.predict(X_test[model_regression.feature_names_])\n",
    "preds_test_classification = (preds_test_regression > 5).astype(int)"
   ]
  },
  {
   "cell_type": "code",
   "execution_count": 145,
   "metadata": {},
   "outputs": [
    {
     "name": "stdout",
     "output_type": "stream",
     "text": [
      "Test MAE: 24.814202144431352\n",
      "Test Accuracy: 0.5970328148305988\n"
     ]
    }
   ],
   "source": [
    "print('Test MAE:', mean_absolute_error(y_test_regression, preds_test_regression))\n",
    "print('Test Accuracy:', accuracy_score(y_test_classification, preds_test_classification))"
   ]
  },
  {
   "cell_type": "markdown",
   "metadata": {},
   "source": [
    "### Подход №2: Регрессия моделью + классификация моделью"
   ]
  },
  {
   "cell_type": "markdown",
   "metadata": {},
   "source": [
    "Модель для регрессии у нас уже есть"
   ]
  },
  {
   "cell_type": "code",
   "execution_count": 146,
   "metadata": {},
   "outputs": [],
   "source": [
    "# model_regression"
   ]
  },
  {
   "cell_type": "code",
   "execution_count": 169,
   "metadata": {},
   "outputs": [],
   "source": [
    "X_train, X_val, y_train, y_val = train_test_split(X, y_classification, \n",
    "                                                  test_size=0.15, \n",
    "                                                  stratify=y_classification,\n",
    "                                                  random_state=17)"
   ]
  },
  {
   "cell_type": "code",
   "execution_count": 170,
   "metadata": {},
   "outputs": [],
   "source": [
    "# .drop(text_features, axis=1)"
   ]
  },
  {
   "cell_type": "code",
   "execution_count": 171,
   "metadata": {},
   "outputs": [
    {
     "name": "stderr",
     "output_type": "stream",
     "text": [
      "Custom logger is already specified. Specify more than one logger at same time is not thread safe."
     ]
    },
    {
     "name": "stdout",
     "output_type": "stream",
     "text": [
      "Learning rate set to 0.106241\n",
      "0:\tlearn: 0.6726016\ttest: 0.6724077\tbest: 0.6724077 (0)\ttotal: 142ms\tremaining: 2m 21s\n",
      "100:\tlearn: 0.5660289\ttest: 0.5660813\tbest: 0.5660801 (98)\ttotal: 16s\tremaining: 2m 22s\n",
      "200:\tlearn: 0.5584408\ttest: 0.5620302\tbest: 0.5620287 (199)\ttotal: 31.6s\tremaining: 2m 5s\n",
      "300:\tlearn: 0.5535594\ttest: 0.5606054\tbest: 0.5605813 (297)\ttotal: 46.7s\tremaining: 1m 48s\n",
      "400:\tlearn: 0.5496079\ttest: 0.5597471\tbest: 0.5597391 (399)\ttotal: 1m 1s\tremaining: 1m 31s\n",
      "500:\tlearn: 0.5460255\ttest: 0.5588424\tbest: 0.5588424 (500)\ttotal: 1m 15s\tremaining: 1m 15s\n",
      "600:\tlearn: 0.5429170\ttest: 0.5588146\tbest: 0.5587549 (513)\ttotal: 1m 29s\tremaining: 59.6s\n",
      "700:\tlearn: 0.5400340\ttest: 0.5585412\tbest: 0.5585412 (700)\ttotal: 1m 43s\tremaining: 44.1s\n",
      "800:\tlearn: 0.5372140\ttest: 0.5585952\tbest: 0.5584446 (720)\ttotal: 1m 57s\tremaining: 29.2s\n",
      "900:\tlearn: 0.5342704\ttest: 0.5583211\tbest: 0.5583152 (899)\ttotal: 2m 11s\tremaining: 14.4s\n",
      "999:\tlearn: 0.5317608\ttest: 0.5582386\tbest: 0.5582319 (996)\ttotal: 2m 24s\tremaining: 0us\n",
      "\n",
      "bestTest = 0.5582318595\n",
      "bestIteration = 996\n",
      "\n",
      "Shrink model to first 997 iterations.\n"
     ]
    },
    {
     "data": {
      "text/plain": [
       "<catboost.core.CatBoostClassifier at 0x1f301e9a0>"
      ]
     },
     "execution_count": 171,
     "metadata": {},
     "output_type": "execute_result"
    }
   ],
   "source": [
    "model_classification = CatBoostClassifier(\n",
    "    verbose=100,\n",
    "    cat_features=cat_features,\n",
    "    text_features=text_features\n",
    ")\n",
    "\n",
    "model_classification.fit(X_train, y_train, eval_set=(X_val, y_val))"
   ]
  },
  {
   "cell_type": "code",
   "execution_count": 173,
   "metadata": {
    "tags": []
   },
   "outputs": [],
   "source": [
    "preds_test_regression = model_regression.predict(X_test[model_regression.feature_names_])\n",
    "preds_test_classification = model_classification.predict(X_test[model_classification.feature_names_])"
   ]
  },
  {
   "cell_type": "code",
   "execution_count": 174,
   "metadata": {},
   "outputs": [
    {
     "name": "stdout",
     "output_type": "stream",
     "text": [
      "Test MAE: 24.814202144431352\n",
      "Test Accuracy: 0.6000159812486683\n"
     ]
    }
   ],
   "source": [
    "print('Test MAE:', mean_absolute_error(y_test_regression, preds_test_regression))\n",
    "print('Test Accuracy:', accuracy_score(y_test_classification, preds_test_classification))"
   ]
  },
  {
   "cell_type": "markdown",
   "metadata": {},
   "source": [
    "### Подход №3: Регрессия моделью + классификация моделью + ансамбль"
   ]
  },
  {
   "cell_type": "code",
   "execution_count": null,
   "metadata": {},
   "outputs": [
    {
     "name": "stdout",
     "output_type": "stream",
     "text": [
      "Learning rate set to 0.114954\n",
      "0:\tlearn: 49.5166519\ttest: 50.2367874\tbest: 50.2367874 (0)\ttotal: 30.6ms\tremaining: 30.6s\n",
      "999:\tlearn: 40.7583522\ttest: 152.1702232\tbest: 50.2367874 (0)\ttotal: 55.7s\tremaining: 0us\n",
      "\n",
      "bestTest = 50.23678743\n",
      "bestIteration = 0\n",
      "\n",
      "Shrink model to first 1 iterations.\n",
      "Learning rate set to 0.104662\n",
      "0:\tlearn: 0.6615104\ttest: 0.6133339\tbest: 0.6133339 (0)\ttotal: 144ms\tremaining: 2m 23s\n",
      "999:\tlearn: 0.5177647\ttest: 1.3096208\tbest: 0.6133339 (0)\ttotal: 2m 18s\tremaining: 0us\n",
      "\n",
      "bestTest = 0.6133338557\n",
      "bestIteration = 0\n",
      "\n",
      "Shrink model to first 1 iterations.\n",
      "Test MAE: 30.797400078497237\n",
      "Test Accuracy: 0.593916471340294\n",
      "Learning rate set to 0.114954\n",
      "0:\tlearn: 49.2160822\ttest: 50.9289845\tbest: 50.9289845 (0)\ttotal: 59.3ms\tremaining: 59.3s\n",
      "999:\tlearn: 40.2875600\ttest: 83.7746255\tbest: 50.9289845 (0)\ttotal: 53.2s\tremaining: 0us\n",
      "\n",
      "bestTest = 50.92898451\n",
      "bestIteration = 0\n",
      "\n",
      "Shrink model to first 1 iterations.\n",
      "Learning rate set to 0.104662\n",
      "0:\tlearn: 0.6482012\ttest: 0.7204031\tbest: 0.7204031 (0)\ttotal: 116ms\tremaining: 1m 56s\n",
      "999:\tlearn: 0.4971020\ttest: 2.0431824\tbest: 0.7204031 (0)\ttotal: 2m 4s\tremaining: 0us\n",
      "\n",
      "bestTest = 0.7204031221\n",
      "bestIteration = 0\n",
      "\n",
      "Shrink model to first 1 iterations.\n",
      "Test MAE: 28.531096337874864\n",
      "Test Accuracy: 0.6076337097805242\n",
      "Learning rate set to 0.114954\n",
      "0:\tlearn: 49.4770312\ttest: 50.3912020\tbest: 50.3912020 (0)\ttotal: 31.5ms\tremaining: 31.4s\n",
      "999:\tlearn: 40.6003975\ttest: 62.2406531\tbest: 50.3912020 (0)\ttotal: 50.5s\tremaining: 0us\n",
      "\n",
      "bestTest = 50.39120204\n",
      "bestIteration = 0\n",
      "\n",
      "Shrink model to first 1 iterations.\n",
      "Learning rate set to 0.104662\n",
      "0:\tlearn: 0.6526454\ttest: 0.7390739\tbest: 0.7390739 (0)\ttotal: 139ms\tremaining: 2m 18s\n",
      "999:\tlearn: 0.4811634\ttest: 1.9486111\tbest: 0.7390739 (0)\ttotal: 2m 3s\tremaining: 0us\n",
      "\n",
      "bestTest = 0.7390738954\n",
      "bestIteration = 0\n",
      "\n",
      "Shrink model to first 1 iterations.\n",
      "Test MAE: 29.048330148092937\n",
      "Test Accuracy: 0.5657628382697635\n",
      "Learning rate set to 0.114954\n",
      "0:\tlearn: 49.7166881\ttest: 49.4594415\tbest: 49.4594415 (0)\ttotal: 39.2ms\tremaining: 39.2s\n",
      "999:\tlearn: 40.9600679\ttest: 66.4643520\tbest: 49.4594415 (0)\ttotal: 50.8s\tremaining: 0us\n",
      "\n",
      "bestTest = 49.45944152\n",
      "bestIteration = 0\n",
      "\n",
      "Shrink model to first 1 iterations.\n",
      "Learning rate set to 0.104662\n",
      "0:\tlearn: 0.6588903\ttest: 0.7361177\tbest: 0.7361177 (0)\ttotal: 125ms\tremaining: 2m 4s\n"
     ]
    }
   ],
   "source": [
    "regression_models = []\n",
    "classification_models = []\n",
    "\n",
    "preds_test_regression_ = []\n",
    "preds_test_classification_ = []\n",
    "\n",
    "for train_index, val_index in StratifiedKFold(n_splits=5).split(X, y_regression):\n",
    "    \n",
    "    X_train_regression = X.drop(text_features, axis=1).iloc[train_index]\n",
    "    X_val_regression = X.drop(text_features, axis=1).iloc[val_index]\n",
    "    y_train_regression = y_regression.iloc[train_index]\n",
    "    y_val_regression = y_regression.iloc[val_index]\n",
    "    \n",
    "    X_train_classification = X.iloc[train_index]\n",
    "    X_val_classification = X.iloc[val_index]\n",
    "    y_train_classification = y_classification.iloc[train_index]\n",
    "    y_val_classification = y_classification.iloc[val_index]\n",
    "    \n",
    "    model_regression = CatBoostRegressor(\n",
    "        verbose=1000,\n",
    "        cat_features=cat_features\n",
    "    )\n",
    "    model_regression.fit(X_train_regression, y_train_regression, \n",
    "                         eval_set=(X_val_regression, y_val_regression))\n",
    "    regression_models.append(model_regression)\n",
    "    \n",
    "    model_classification = CatBoostClassifier(\n",
    "        verbose=1000,\n",
    "        cat_features=cat_features,\n",
    "        text_features=text_features\n",
    "    )\n",
    "    model_classification.fit(X_train_classification, y_train_classification, \n",
    "                             eval_set=(X_val_classification, y_val_classification))\n",
    "    classification_models.append(model_classification)\n",
    "    \n",
    "    preds_test_regression = model_regression.predict(X_test[model_regression.feature_names_])\n",
    "    preds_test_classification = model_classification.predict(X_test[model_classification.feature_names_])\n",
    "    \n",
    "    print('Test MAE:', mean_absolute_error(y_test_regression, preds_test_regression))\n",
    "    print('Test Accuracy:', accuracy_score(y_test_classification, preds_test_classification))\n",
    "    \n",
    "    preds_test_regression_.append(preds_test_regression)\n",
    "    \n",
    "    preds_test_classification_proba = model_classification.predict_proba(X_test[model_classification.feature_names_])[:, 1]\n",
    "    preds_test_classification_.append(preds_test_classification_proba)"
   ]
  },
  {
   "cell_type": "code",
   "execution_count": null,
   "metadata": {},
   "outputs": [],
   "source": [
    "np.mean(preds_test_regression_, axis=0)"
   ]
  },
  {
   "cell_type": "code",
   "execution_count": null,
   "metadata": {},
   "outputs": [],
   "source": [
    "np.mean(preds_test_classification_, axis=0)"
   ]
  },
  {
   "cell_type": "code",
   "execution_count": null,
   "metadata": {},
   "outputs": [],
   "source": [
    "preds_test_regression = \n",
    "preds_test_classification = "
   ]
  },
  {
   "cell_type": "code",
   "execution_count": null,
   "metadata": {},
   "outputs": [],
   "source": [
    "print('Test MAE:', mean_absolute_error(y_test_regression, preds_test_regression))\n",
    "print('Test Accuracy:', accuracy_score(y_test_classification, preds_test_classification))"
   ]
  },
  {
   "cell_type": "markdown",
   "metadata": {
    "_cell_guid": "73f672c7-cc26-4399-82bb-eb5a8ddcead0",
    "_uuid": "01954d4ff2644d1fedf8658d33a139e833ab6cdf"
   },
   "source": [
    "** If you see any kind of improvement, or mistakes, thanks in advance for telling me !!** <br>\n",
    "**_If you liked this notebook, thanks for upvoting_ :)**"
   ]
  }
 ],
 "metadata": {
  "kernelspec": {
   "display_name": "Python 3 (ipykernel)",
   "language": "python",
   "name": "python3"
  },
  "language_info": {
   "codemirror_mode": {
    "name": "ipython",
    "version": 3
   },
   "file_extension": ".py",
   "mimetype": "text/x-python",
   "name": "python",
   "nbconvert_exporter": "python",
   "pygments_lexer": "ipython3",
   "version": "3.9.5"
  }
 },
 "nbformat": 4,
 "nbformat_minor": 4
}
